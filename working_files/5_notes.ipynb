{
 "cells": [
  {
   "cell_type": "markdown",
   "metadata": {},
   "source": [
    "# Matplotlib"
   ]
  },
  {
   "cell_type": "code",
   "execution_count": 1,
   "metadata": {},
   "outputs": [
    {
     "name": "stdout",
     "output_type": "stream",
     "text": [
      "Intel MKL WARNING: Support of Intel(R) Streaming SIMD Extensions 4.2 (Intel(R) SSE4.2) enabled only processors has been deprecated. Intel oneAPI Math Kernel Library 2025.0 will require Intel(R) Advanced Vector Extensions (Intel(R) AVX) instructions.\n",
      "Intel MKL WARNING: Support of Intel(R) Streaming SIMD Extensions 4.2 (Intel(R) SSE4.2) enabled only processors has been deprecated. Intel oneAPI Math Kernel Library 2025.0 will require Intel(R) Advanced Vector Extensions (Intel(R) AVX) instructions.\n"
     ]
    }
   ],
   "source": [
    "# Imports\n",
    "import numpy as np\n",
    "import pandas as pd\n",
    "import matplotlib.pyplot as plt"
   ]
  },
  {
   "cell_type": "markdown",
   "metadata": {},
   "source": [
    "### Core components\n",
    "- Figure\n",
    "- Axes"
   ]
  },
  {
   "cell_type": "markdown",
   "metadata": {},
   "source": [
    "## Basic Plotting\n",
    "\n",
    "- plt.plot()\n",
    "- plt.scatter()\n",
    "\n",
    "- name figures to create multiple separate graphs\n",
    "    - fig = plt.figure()"
   ]
  },
  {
   "cell_type": "code",
   "execution_count": null,
   "metadata": {},
   "outputs": [],
   "source": [
    "# Generate a 1D array with 100 points between -5 and 5\n",
    "x = np.linspace(-5,5,100)\n",
    "# Generate sine wave\n",
    "ysin = np.sin(x)\n",
    "# Generate cosine wave\n",
    "ycos = np.cos(x)"
   ]
  },
  {
   "cell_type": "code",
   "execution_count": null,
   "metadata": {},
   "outputs": [],
   "source": [
    "# Plot sine wave\n",
    "fig1 = plt.figure()\n",
    "plt.plot(x,ysin)\n",
    "\n",
    "# Plot cosine wave\n",
    "fig2 = plt.figure()\n",
    "plt.plot(x,ycos)"
   ]
  },
  {
   "cell_type": "markdown",
   "metadata": {},
   "source": [
    "### Colors\n",
    "- keyword = color\n",
    "- plt.plot(x, y, 'color')"
   ]
  },
  {
   "cell_type": "code",
   "execution_count": null,
   "metadata": {},
   "outputs": [],
   "source": [
    "# Initialize empty figure\n",
    "fig1 = plt.figure()\n",
    "# Plot sine wave with different colors\n",
    "plt.plot(x, np.sin(x - 0), color='darkblue')     # HTML name\n",
    "plt.plot(x, np.sin(x - 1), color='m')            # Short letter code\n",
    "plt.plot(x, np.sin(x - 2), color=(0.0,0.8,0.81)) # RGB tuple\n",
    "plt.plot(x, np.sin(x - 3), color='0.65')         # Grayscale between 0 and 1\n",
    "plt.plot(x, np.sin(x - 4), color='#B8D62E')      # Hex code"
   ]
  },
  {
   "cell_type": "markdown",
   "metadata": {},
   "source": [
    "### Linestyles\n",
    "- keyword = linestyle\n",
    "- plt.plot(x, y, linestlye='-')\n",
    "- try not to use more than 3 linestyles on one plot"
   ]
  },
  {
   "cell_type": "code",
   "execution_count": null,
   "metadata": {},
   "outputs": [],
   "source": [
    "# Initialize empty figure\n",
    "fig1 = plt.figure()\n",
    "# Plot sine wave with different colors + linestyles\n",
    "plt.plot(x, np.sin(x - 0), color='darkblue', linestyle='-')\n",
    "plt.plot(x, np.sin(x - 1), color='m', linestyle='dashed')\n",
    "plt.plot(x, np.sin(x - 2), color=(0.0,0.8,0.81), linestyle=':') \n",
    "plt.plot(x, np.sin(x - 3), color='0.65', linestyle='solid')\n",
    "plt.plot(x, np.sin(x - 4), color='#B8D62E', linestyle='-.')"
   ]
  },
  {
   "cell_type": "markdown",
   "metadata": {},
   "source": [
    "### Markers\n",
    "- keyword = marker\n",
    "- plt.scatter(x, y, marker='+')"
   ]
  },
  {
   "cell_type": "code",
   "execution_count": null,
   "metadata": {},
   "outputs": [],
   "source": [
    "# Generate new x and y with fewer points for legibility\n",
    "xscat = np.linspace(-5,5,25)\n",
    "yscat = np.sin(xscat)"
   ]
  },
  {
   "cell_type": "code",
   "execution_count": null,
   "metadata": {},
   "outputs": [],
   "source": [
    "# Initialize empty figure\n",
    "fig1 = plt.figure()\n",
    "# Plot sine wave as scatter plot with different colors + markers\n",
    "plt.scatter(xscat, yscat-0, color='darkblue', marker='o')\n",
    "plt.scatter(xscat, yscat-1, color='m', marker='.')\n",
    "plt.scatter(xscat, yscat-2, color=(0.0,0.8,0.81), marker='+')\n",
    "plt.scatter(xscat, yscat-3, color='0.65', marker='*')\n",
    "plt.scatter(xscat, yscat-4, color='#B8D62E', marker='s')"
   ]
  },
  {
   "cell_type": "markdown",
   "metadata": {},
   "source": [
    "Using the `marker` keyword argument with the `plt.plot()` function creates a connected line plot, where the data points are designated by markers and connected by lines."
   ]
  },
  {
   "cell_type": "code",
   "execution_count": null,
   "metadata": {},
   "outputs": [],
   "source": [
    "# Initialize empty figure\n",
    "fig1 = plt.figure()\n",
    "# Plot sine wave with different colors + markers\n",
    "plt.plot(xscat, np.sin(xscat - 0), color='darkblue', marker='o')\n",
    "plt.plot(xscat, np.sin(xscat - 1), color='m', marker='.')\n",
    "plt.plot(xscat, np.sin(xscat - 2), color=(0.0,0.8,0.81), marker='+')\n",
    "plt.plot(xscat, np.sin(xscat - 3), color='0.65', marker='*')\n",
    "plt.plot(xscat, np.sin(xscat - 4), color='#B8D62E', marker='s')"
   ]
  },
  {
   "cell_type": "markdown",
   "metadata": {},
   "source": [
    "#### Shortcuts\n",
    "- can combine color, linestyle, and marker into single, non-keyword argument\n",
    "    - plt.plot(x, y, 'r--')\n",
    "    - above plots a dashed, red line\n",
    "- **be careful because explicit is usually better**\n",
    "- also limits you to the single letter colors"
   ]
  },
  {
   "cell_type": "code",
   "execution_count": null,
   "metadata": {},
   "outputs": [],
   "source": [
    "# Initialize empty figure\n",
    "fig1 = plt.figure()\n",
    "# Plot sine wave with different colors + markers\n",
    "plt.plot(xscat, yscat-0, 'b-o')    # Solid blue line with circle markers\n",
    "plt.plot(xscat, yscat-1, 'm--*')   # Dashed magenta line with star markers\n",
    "plt.plot(xscat, yscat-2, 'c+')     # Cyan plus markers\n",
    "plt.plot(xscat, yscat-3, 'k')      # Solid black line\n",
    "plt.plot(xscat, yscat-4, 'y-s')    # Solid yellow line with square markers"
   ]
  },
  {
   "cell_type": "markdown",
   "metadata": {},
   "source": [
    "Can also add arguments of **linewidth** and **markersize**"
   ]
  },
  {
   "cell_type": "markdown",
   "metadata": {},
   "source": [
    "## Axes settings"
   ]
  },
  {
   "cell_type": "markdown",
   "metadata": {},
   "source": [
    "### Limits, labels, & ticks\n",
    "By default, <span class=\"code\">matplotlib</span> will attempt to determine **x- and y-axis limits**, which usually work pretty well. Sometimes, however, it is useful to have finer control. The simplest way to adjust the display limits is to use the `plt.xlim()` and `plt.ylim()` methods:\n",
    "- plt.xlim(xmin, xmax)"
   ]
  },
  {
   "cell_type": "markdown",
   "metadata": {},
   "source": [
    "You may also find it useful to adjust the **ticks** and/or **tick labels** that <span class=\"code\">matplotlib </span> displays by default. The `plt.xticks()` and `plt.yticks()` methods allow you to control the locations of both the ticks and the labels on the x- and y-axes, respectively. Both methods accept two list or array-like arguments, as well as optional keyword arguments. The first corresponds to the ticks, while the second controls the tick labels."
   ]
  },
  {
   "cell_type": "markdown",
   "metadata": {},
   "source": [
    "As with any plot, it is imperative to include **x- and y-axis labels**. This can be done by passing strings to the `plt.xlabel()` and `plt.ylabel()` methods:"
   ]
  },
  {
   "cell_type": "code",
   "execution_count": null,
   "metadata": {},
   "outputs": [],
   "source": [
    "# Initialize empty figure\n",
    "fig1 = plt.figure()\n",
    "# Plot sine wave \n",
    "plt.plot(x, ysin, color='darkblue')\n",
    "\n",
    "# Set x-axis limits\n",
    "plt.xlim(-5,5)\n",
    "\n",
    "# Set axis ticks\n",
    "plt.xticks([-4,-3,-2,-1,0,1,2,3,4],['-4','','-2','','0','','2','','4'])\n",
    "plt.yticks([-1,-0.5,0,0.5,1])\n",
    "\n",
    "# Set axis labels\n",
    "plt.xlabel(r'$x$')\n",
    "plt.ylabel(r'$\\sin{(x)}$')"
   ]
  },
  {
   "cell_type": "markdown",
   "metadata": {},
   "source": [
    "### Subplots and multiple axes\n",
    "- plt.subplots()\n",
    "    - nrows, ncols, index\n",
    "- plt.subplots(nrows, ncols, index)"
   ]
  },
  {
   "cell_type": "markdown",
   "metadata": {},
   "source": [
    "The most explicit way of adding subplots is to use the `fig.add_subplot()` command to initialize new axes"
   ]
  },
  {
   "cell_type": "code",
   "execution_count": null,
   "metadata": {},
   "outputs": [],
   "source": [
    "# Initialize empty figure\n",
    "fig = plt.figure()\n",
    "# Add four axes\n",
    "ax1 = fig.add_subplot(2,2,1)\n",
    "ax2 = fig.add_subplot(2,2,2)\n",
    "ax3 = fig.add_subplot(2,2,3)\n",
    "ax4 = fig.add_subplot(2,2,4)\n",
    "\n",
    "# Plot data\n",
    "# Plot sine wave with different colors on different axes\n",
    "ax1.plot(x, np.sin(x - 0), color='darkblue')\n",
    "ax2.plot(x, np.sin(x - 1), color='m')\n",
    "ax3.plot(x, np.sin(x - 2), color=(0.0,0.8,0.81))\n",
    "ax4.plot(x, np.sin(x - 4), color='#B8D62E')"
   ]
  },
  {
   "cell_type": "markdown",
   "metadata": {},
   "source": [
    "### Figure vs. Axes Methods\n",
    "\n",
    "\n",
    "| <span class=\"codeb\">Figure</span> command | <span class=\"codeb\">Axes</span> command    |\n",
    "| :--------------------------------------   | :----------------------------------------- |\n",
    "| <span class=\"codeb\">plt.xlabel()</span>   | <span class=\"codeb\">ax.set_xlabel()</span> |\n",
    "| <span class=\"codeb\">plt.ylabel()</span>   | <span class=\"codeb\">ax.set_ylabel()</span> |\n",
    "| <span class=\"codeb\">plt.xlim()</span>     | <span class=\"codeb\">ax.set_xlim()</span>   |\n",
    "| <span class=\"codeb\">plt.ylim()</span>     | <span class=\"codeb\">ax.set_ylim()</span>   |\n",
    "| <span class=\"codeb\">plt.xticks()</span>   | <span class=\"codeb\">ax.set_xticks()</span> |\n",
    "| <span class=\"codeb\">plt.yticks()</span>   | <span class=\"codeb\">ax.set_yticks()</span> |"
   ]
  },
  {
   "cell_type": "markdown",
   "metadata": {},
   "source": [
    "In the last example, we included a command, `plt.tight_layout()`, which automatically formats the figure to fit the window. This is most useful when using an IDE with a separate plotting window, rather than with in-line plots like those in a notebook. "
   ]
  }
 ],
 "metadata": {
  "kernelspec": {
   "display_name": "eds217_2023",
   "language": "python",
   "name": "python3"
  },
  "language_info": {
   "codemirror_mode": {
    "name": "ipython",
    "version": 3
   },
   "file_extension": ".py",
   "mimetype": "text/x-python",
   "name": "python",
   "nbconvert_exporter": "python",
   "pygments_lexer": "ipython3",
   "version": "3.10.12"
  },
  "orig_nbformat": 4
 },
 "nbformat": 4,
 "nbformat_minor": 2
}
