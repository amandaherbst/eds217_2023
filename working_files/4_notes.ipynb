{
 "cells": [
  {
   "cell_type": "markdown",
   "metadata": {},
   "source": [
    "# pandas\n"
   ]
  },
  {
   "cell_type": "code",
   "execution_count": 1,
   "metadata": {},
   "outputs": [
    {
     "name": "stdout",
     "output_type": "stream",
     "text": [
      "Intel MKL WARNING: Support of Intel(R) Streaming SIMD Extensions 4.2 (Intel(R) SSE4.2) enabled only processors has been deprecated. Intel oneAPI Math Kernel Library 2025.0 will require Intel(R) Advanced Vector Extensions (Intel(R) AVX) instructions.\n",
      "Intel MKL WARNING: Support of Intel(R) Streaming SIMD Extensions 4.2 (Intel(R) SSE4.2) enabled only processors has been deprecated. Intel oneAPI Math Kernel Library 2025.0 will require Intel(R) Advanced Vector Extensions (Intel(R) AVX) instructions.\n"
     ]
    }
   ],
   "source": [
    "import pandas as pd"
   ]
  },
  {
   "cell_type": "markdown",
   "metadata": {},
   "source": [
    "Core components\n",
    "- Series\n",
    "- Data frames"
   ]
  },
  {
   "cell_type": "markdown",
   "metadata": {},
   "source": [
    "### Series\n",
    "- Essentially a column of data\n",
    "- can be indexed with []\n",
    "\n",
    "Create from a list/array:"
   ]
  },
  {
   "cell_type": "code",
   "execution_count": 2,
   "metadata": {},
   "outputs": [
    {
     "data": {
      "text/plain": [
       "0    25.8\n",
       "1    16.2\n",
       "2    17.9\n",
       "3    18.8\n",
       "4    23.6\n",
       "5    29.9\n",
       "6    23.6\n",
       "7    22.1\n",
       "dtype: float64"
      ]
     },
     "execution_count": 2,
     "metadata": {},
     "output_type": "execute_result"
    }
   ],
   "source": [
    "# Create a Series from a list\n",
    "series = pd.Series([25.8, 16.2, 17.9, 18.8, 23.6, 29.9, 23.6, 22.1])\n",
    "\n",
    "series"
   ]
  },
  {
   "cell_type": "code",
   "execution_count": 3,
   "metadata": {},
   "outputs": [
    {
     "data": {
      "text/plain": [
       "0      3\n",
       "1      5\n",
       "2      1\n",
       "3    2.4\n",
       "4    3.7\n",
       "5      3\n",
       "dtype: object"
      ]
     },
     "execution_count": 3,
     "metadata": {},
     "output_type": "execute_result"
    }
   ],
   "source": [
    "series2 = pd.Series([3, 5, 1, 2.4, '3.7', 3])\n",
    "series2\n",
    "# returns type \"object\" bc it's trying to coerce string '3.7' to float"
   ]
  },
  {
   "cell_type": "markdown",
   "metadata": {},
   "source": [
    "### DataFrame\n",
    "- multidimenionsal table made up of many series\n",
    "\n",
    "Create from list of lists or dictionaries:"
   ]
  },
  {
   "cell_type": "code",
   "execution_count": 5,
   "metadata": {},
   "outputs": [
    {
     "data": {
      "text/html": [
       "<div>\n",
       "<style scoped>\n",
       "    .dataframe tbody tr th:only-of-type {\n",
       "        vertical-align: middle;\n",
       "    }\n",
       "\n",
       "    .dataframe tbody tr th {\n",
       "        vertical-align: top;\n",
       "    }\n",
       "\n",
       "    .dataframe thead th {\n",
       "        text-align: right;\n",
       "    }\n",
       "</style>\n",
       "<table border=\"1\" class=\"dataframe\">\n",
       "  <thead>\n",
       "    <tr style=\"text-align: right;\">\n",
       "      <th></th>\n",
       "      <th>A</th>\n",
       "      <th>B</th>\n",
       "      <th>C</th>\n",
       "      <th>D</th>\n",
       "    </tr>\n",
       "  </thead>\n",
       "  <tbody>\n",
       "    <tr>\n",
       "      <th>0</th>\n",
       "      <td>25.8</td>\n",
       "      <td>28.1</td>\n",
       "      <td>16.2</td>\n",
       "      <td>11.0</td>\n",
       "    </tr>\n",
       "    <tr>\n",
       "      <th>1</th>\n",
       "      <td>17.9</td>\n",
       "      <td>14.2</td>\n",
       "      <td>18.8</td>\n",
       "      <td>28.0</td>\n",
       "    </tr>\n",
       "    <tr>\n",
       "      <th>2</th>\n",
       "      <td>23.6</td>\n",
       "      <td>18.4</td>\n",
       "      <td>29.9</td>\n",
       "      <td>27.8</td>\n",
       "    </tr>\n",
       "    <tr>\n",
       "      <th>3</th>\n",
       "      <td>23.6</td>\n",
       "      <td>36.2</td>\n",
       "      <td>22.1</td>\n",
       "      <td>14.5</td>\n",
       "    </tr>\n",
       "  </tbody>\n",
       "</table>\n",
       "</div>"
      ],
      "text/plain": [
       "      A     B     C     D\n",
       "0  25.8  28.1  16.2  11.0\n",
       "1  17.9  14.2  18.8  28.0\n",
       "2  23.6  18.4  29.9  27.8\n",
       "3  23.6  36.2  22.1  14.5"
      ]
     },
     "execution_count": 5,
     "metadata": {},
     "output_type": "execute_result"
    }
   ],
   "source": [
    "# List of lists\n",
    "df = pd.DataFrame([[25.8, 28.1, 16.2, 11.0],[17.9, 14.2, 18.8, 28.0],\n",
    "                   [23.6, 18.4, 29.9, 27.8],[23.6, 36.2, 22.1, 14.5]],\n",
    "                 columns=['A','B','C','D'])\n",
    "df\n",
    "# without specifying columns, headers would just be integers like the rows"
   ]
  },
  {
   "cell_type": "code",
   "execution_count": 6,
   "metadata": {},
   "outputs": [
    {
     "data": {
      "text/html": [
       "<div>\n",
       "<style scoped>\n",
       "    .dataframe tbody tr th:only-of-type {\n",
       "        vertical-align: middle;\n",
       "    }\n",
       "\n",
       "    .dataframe tbody tr th {\n",
       "        vertical-align: top;\n",
       "    }\n",
       "\n",
       "    .dataframe thead th {\n",
       "        text-align: right;\n",
       "    }\n",
       "</style>\n",
       "<table border=\"1\" class=\"dataframe\">\n",
       "  <thead>\n",
       "    <tr style=\"text-align: right;\">\n",
       "      <th></th>\n",
       "      <th>A</th>\n",
       "      <th>B</th>\n",
       "      <th>C</th>\n",
       "      <th>D</th>\n",
       "    </tr>\n",
       "  </thead>\n",
       "  <tbody>\n",
       "    <tr>\n",
       "      <th>0</th>\n",
       "      <td>25.8</td>\n",
       "      <td>28.1</td>\n",
       "      <td>16.2</td>\n",
       "      <td>11.0</td>\n",
       "    </tr>\n",
       "    <tr>\n",
       "      <th>1</th>\n",
       "      <td>17.9</td>\n",
       "      <td>14.2</td>\n",
       "      <td>18.8</td>\n",
       "      <td>28.0</td>\n",
       "    </tr>\n",
       "    <tr>\n",
       "      <th>2</th>\n",
       "      <td>23.6</td>\n",
       "      <td>18.4</td>\n",
       "      <td>29.9</td>\n",
       "      <td>27.8</td>\n",
       "    </tr>\n",
       "    <tr>\n",
       "      <th>3</th>\n",
       "      <td>23.6</td>\n",
       "      <td>36.2</td>\n",
       "      <td>22.1</td>\n",
       "      <td>14.5</td>\n",
       "    </tr>\n",
       "  </tbody>\n",
       "</table>\n",
       "</div>"
      ],
      "text/plain": [
       "      A     B     C     D\n",
       "0  25.8  28.1  16.2  11.0\n",
       "1  17.9  14.2  18.8  28.0\n",
       "2  23.6  18.4  29.9  27.8\n",
       "3  23.6  36.2  22.1  14.5"
      ]
     },
     "execution_count": 6,
     "metadata": {},
     "output_type": "execute_result"
    }
   ],
   "source": [
    "# Dictionaries\n",
    "df = pd.DataFrame({'A': [25.8, 17.9, 23.6, 23.6],\n",
    "                   'B': [28.1, 14.2, 18.4, 36.2],\n",
    "                   'C': [16.2, 18.8, 29.9, 22.1],\n",
    "                   'D': [11.0, 28.0, 27.8, 14.5]})\n",
    "\n",
    "df\n",
    "# each key = column name, each value = column"
   ]
  },
  {
   "cell_type": "markdown",
   "metadata": {},
   "source": [
    "**creating from a list vs a dictionary are kinda reversed. if you're creating from lists, each list is a row, but from a dictionary, each list of values are columns"
   ]
  },
  {
   "cell_type": "markdown",
   "metadata": {},
   "source": [
    "## Importing Data\n",
    "- pd.read_csv() is most useful to read CSV files"
   ]
  },
  {
   "cell_type": "code",
   "execution_count": null,
   "metadata": {},
   "outputs": [],
   "source": [
    "# using BSRN data from data folder for practice\n",
    "bsrn = pd.read_csv('../data/BSRN_GOB_2019-10.csv')"
   ]
  },
  {
   "cell_type": "markdown",
   "metadata": {},
   "source": [
    "#### Exploring dataframes\n",
    "\n",
    "| Method | Description |\n",
    "| :----- | :---------- |\n",
    "| <span style=\"font-family: Lucida Console, Courier, monospace; font-weight: bold\"> df.info() </span> | Prints a concise summary of the DataFrame |\n",
    "| <span style=\"font-family: Lucida Console, Courier, monospace; font-weight: bold\"> df.head(<i>n</i>) </span> | Returns the first *n* rows of the DataFrame |\n",
    "| <span style=\"font-family: Lucida Console, Courier, monospace; font-weight: bold\"> df.tail(<i>n</i>) </span> | Returns the last *n* rows of the DataFrame |\n",
    "| <span style=\"font-family: Lucida Console, Courier, monospace; font-weight: bold\"> df.index </span> | Returns the index range (number of rows) |\n",
    "| <span style=\"font-family: Lucida Console, Courier, monospace; font-weight: bold\"> df.columns </span> | Returns the column names |\n",
    "| <span style=\"font-family: Lucida Console, Courier, monospace; font-weight: bold\"> df.dtypes </span> | Returns a Series with the data types of each column indexed by column name |\n",
    "| <span style=\"font-family: Lucida Console, Courier, monospace; font-weight: bold\"> df.size </span> | Returns the total number of values in the DataFrame as an `int` |\n",
    "| <span style=\"font-family: Lucida Console, Courier, monospace; font-weight: bold\"> df.shape </span> | Returns the shape of the DataFrame as a tuple (*rows*,*columns*) |\n",
    "| <span style=\"font-family: Lucida Console, Courier, monospace; font-weight: bold\"> df.values </span> | Returns the DataFrame values as a NumPy array (not recommended) |\n",
    "| <span style=\"font-family: Lucida Console, Courier, monospace; font-weight: bold\"> df.describe() </span> | Returns a DataFrame with summary statistics of each column |"
   ]
  },
  {
   "cell_type": "markdown",
   "metadata": {},
   "source": [
    "#### Indexing\n",
    "- df.iloc[] (index location)\n",
    "    - can select multiples via slicing\n",
    "    - df.iloc[row_start:row_end:row_step, col_start:col_end: col_step]\n",
    "- df.loc[] row indexing\n",
    "    - single row = series\n",
    "    - stop value is inclusive\n",
    "- df['column_name'] column indexing\n",
    "    - column names are considered keys to the dataframe\n",
    "    - use[[]] to call list of columns\n",
    "        - [['column1', 'column2']]\n",
    "        - otherwise get a KeyError\n",
    "    - df['column_name'].unique() returns all the unique values in that column"
   ]
  },
  {
   "cell_type": "markdown",
   "metadata": {},
   "source": [
    "#### Datetimes\n",
    "- pd.to_datetime() converts data to datetime objects\n",
    "    - if they're in the right format**"
   ]
  }
 ],
 "metadata": {
  "kernelspec": {
   "display_name": "eds217_2023",
   "language": "python",
   "name": "python3"
  },
  "language_info": {
   "codemirror_mode": {
    "name": "ipython",
    "version": 3
   },
   "file_extension": ".py",
   "mimetype": "text/x-python",
   "name": "python",
   "nbconvert_exporter": "python",
   "pygments_lexer": "ipython3",
   "version": "3.10.12"
  },
  "orig_nbformat": 4
 },
 "nbformat": 4,
 "nbformat_minor": 2
}
