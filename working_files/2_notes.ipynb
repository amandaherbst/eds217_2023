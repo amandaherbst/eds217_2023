{
 "cells": [
  {
   "cell_type": "markdown",
   "metadata": {},
   "source": [
    "# Control Flow Statements"
   ]
  },
  {
   "cell_type": "markdown",
   "metadata": {},
   "source": [
    "## If Else statements\n",
    "format:\n",
    "```python\n",
    "if your condition: (don't forget colon!!)\n",
    "            what you want to happen\n",
    "```"
   ]
  },
  {
   "cell_type": "markdown",
   "metadata": {},
   "source": [
    "Below is not good coding practice but shows that if statement just deals with the True/False"
   ]
  },
  {
   "cell_type": "code",
   "execution_count": null,
   "metadata": {},
   "outputs": [],
   "source": [
    "# Define x\n",
    "x = 4\n",
    "a = x > 0\n",
    "# Evaluate condition\n",
    "if a:\n",
    "    print('x is a positive number.')"
   ]
  },
  {
   "cell_type": "markdown",
   "metadata": {},
   "source": [
    "Adding else and elif (else if)\n",
    "- each one requires a colon"
   ]
  },
  {
   "cell_type": "code",
   "execution_count": 1,
   "metadata": {},
   "outputs": [
    {
     "name": "stdout",
     "output_type": "stream",
     "text": [
      "y is a negative number.\n"
     ]
    }
   ],
   "source": [
    "y = -3218\n",
    "if y > 0:\n",
    "    print('y is a positive number.')\n",
    "elif y == 0:\n",
    "    print('y = 0')\n",
    "else:\n",
    "    print('y is a negative number.')"
   ]
  },
  {
   "cell_type": "markdown",
   "metadata": {},
   "source": [
    "Checking if something is in a list: in\n",
    "- The `in` operator is used to check if an object exists within an iterable object container, such as a list."
   ]
  },
  {
   "cell_type": "code",
   "execution_count": 3,
   "metadata": {},
   "outputs": [
    {
     "name": "stdout",
     "output_type": "stream",
     "text": [
      "June is not an amino acid.\n"
     ]
    }
   ],
   "source": [
    "# List of amino acids\n",
    "aminoacids = ['histidine', 'isoleucine', 'leucine', 'lysine', 'methionine', \n",
    "              'phenylalanine', 'threonine', 'tryptophan', 'valine', 'alanine', \n",
    "              'arginine', 'asparagine', 'aspartate', 'cysteine', 'glutamate', \n",
    "              'glutamine', 'glycine', 'proline', 'serine', 'tyrosine']\n",
    "\n",
    "org_compound = 'june'\n",
    "if org_compound in aminoacids:\n",
    "    print(org_compound.capitalize() + ' is an amino acid.' )\n",
    "else:\n",
    "    print(org_compound.capitalize() + ' is not an amino acid.')"
   ]
  },
  {
   "cell_type": "markdown",
   "metadata": {},
   "source": [
    "Can add \"and\" and \"or\" for more complex statements \n",
    "- and = multiple conditions must be satisfied\n",
    "- or = one of multiple conditions must be met"
   ]
  },
  {
   "cell_type": "code",
   "execution_count": 4,
   "metadata": {},
   "outputs": [
    {
     "name": "stdout",
     "output_type": "stream",
     "text": [
      "Tyrosine is a non-essential, aromatic amino acid.\n"
     ]
    }
   ],
   "source": [
    "essential = ['histidine', 'lysine', 'threonine', 'tryptophan', \n",
    "             'valine', 'methionine', 'leucine', 'phenylalanine']\n",
    "aromatic = ['phenylalanine', 'tryptophan', 'tyrosine']\n",
    "\n",
    "aa = 'tyrosine'\n",
    "\n",
    "if aa in aromatic and aa in essential:\n",
    "    print(aa.capitalize() + ' is an essential, aromatic amino acid.') \n",
    "# order matters, if it satisfies the first condition, then it ignores the rest\n",
    "elif aa in essential:\n",
    "    print(aa.capitalize() + ' is an essential, non-aromatic amino acid.')\n",
    "elif aa in aromatic:\n",
    "    print(aa.capitalize() + ' is a non-essential, aromatic amino acid.')\n",
    "elif aa in aminoacids:\n",
    "    print(aa.capitalize() + 'is a non-essential amino acid.')\n",
    "else:\n",
    "    print(aa.capitalize() + ' is not an amino acid.')"
   ]
  },
  {
   "cell_type": "markdown",
   "metadata": {},
   "source": [
    "## For loops\n",
    "```python\n",
    "for <ITERATOR> in <ITERABLE>:\n",
    "    do something to iterator\n",
    "```   "
   ]
  },
  {
   "cell_type": "code",
   "execution_count": null,
   "metadata": {},
   "outputs": [],
   "source": [
    "for aa in aminoacids: # don't need to do indexing/ keep track of where you are in the loop\n",
    "    print(aa)"
   ]
  },
  {
   "cell_type": "markdown",
   "metadata": {},
   "source": [
    "#### enumerate()\n",
    "- can be used in a `for` loop to keep track of the index of the iterator. This can be useful for keeping track of the number of iterations completed, accessing other elements in the same list based on their relative index (e.g. the value immediately following the current iterator value), or accessing elements in another list based on the iterator's index.\n"
   ]
  },
  {
   "cell_type": "code",
   "execution_count": 5,
   "metadata": {},
   "outputs": [
    {
     "name": "stdout",
     "output_type": "stream",
     "text": [
      "The #1 most abundant gas in the atmosphere is N2.\n",
      "The #2 most abundant gas in the atmosphere is O2.\n",
      "The #3 most abundant gas in the atmosphere is Ar.\n",
      "The #4 most abundant gas in the atmosphere is H2O.\n",
      "The #5 most abundant gas in the atmosphere is CO2.\n"
     ]
    }
   ],
   "source": [
    "gases = ['N2', 'O2', 'Ar', 'H2O', 'CO2']\n",
    "\n",
    "for i,gas in enumerate(gases):\n",
    "    rank = i + 1\n",
    "    print('The #%d most abundant gas in the atmosphere is %s.' %(rank,gas))\n"
   ]
  }
 ],
 "metadata": {
  "kernelspec": {
   "display_name": "eds217_2023",
   "language": "python",
   "name": "python3"
  },
  "language_info": {
   "codemirror_mode": {
    "name": "ipython",
    "version": 3
   },
   "file_extension": ".py",
   "mimetype": "text/x-python",
   "name": "python",
   "nbconvert_exporter": "python",
   "pygments_lexer": "ipython3",
   "version": "3.10.12"
  },
  "orig_nbformat": 4
 },
 "nbformat": 4,
 "nbformat_minor": 2
}
