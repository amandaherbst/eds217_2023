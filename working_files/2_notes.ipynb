{
 "cells": [
  {
   "cell_type": "markdown",
   "metadata": {},
   "source": [
    "# Control Flow Statements"
   ]
  },
  {
   "cell_type": "markdown",
   "metadata": {},
   "source": [
    "## If Else statements\n",
    "format:\n",
    "```python\n",
    "if your condition: (don't forget colon!!)\n",
    "            what you want to happen\n",
    "```"
   ]
  },
  {
   "cell_type": "markdown",
   "metadata": {},
   "source": [
    "Below is not good coding practice but shows that if statement just deals with the True/False"
   ]
  },
  {
   "cell_type": "code",
   "execution_count": null,
   "metadata": {},
   "outputs": [],
   "source": [
    "# Define x\n",
    "x = 4\n",
    "a = x > 0\n",
    "# Evaluate condition\n",
    "if a:\n",
    "    print('x is a positive number.')"
   ]
  },
  {
   "cell_type": "markdown",
   "metadata": {},
   "source": [
    "Adding else and elif (else if)\n",
    "- each one requires a colon"
   ]
  },
  {
   "cell_type": "code",
   "execution_count": 1,
   "metadata": {},
   "outputs": [
    {
     "name": "stdout",
     "output_type": "stream",
     "text": [
      "y is a negative number.\n"
     ]
    }
   ],
   "source": [
    "y = -3218\n",
    "if y > 0:\n",
    "    print('y is a positive number.')\n",
    "elif y == 0:\n",
    "    print('y = 0')\n",
    "else:\n",
    "    print('y is a negative number.')"
   ]
  },
  {
   "cell_type": "markdown",
   "metadata": {},
   "source": [
    "Checking if something is in a list: in\n",
    "- The `in` operator is used to check if an object exists within an iterable object container, such as a list."
   ]
  },
  {
   "cell_type": "code",
   "execution_count": 3,
   "metadata": {},
   "outputs": [
    {
     "name": "stdout",
     "output_type": "stream",
     "text": [
      "June is not an amino acid.\n"
     ]
    }
   ],
   "source": [
    "# List of amino acids\n",
    "aminoacids = ['histidine', 'isoleucine', 'leucine', 'lysine', 'methionine', \n",
    "              'phenylalanine', 'threonine', 'tryptophan', 'valine', 'alanine', \n",
    "              'arginine', 'asparagine', 'aspartate', 'cysteine', 'glutamate', \n",
    "              'glutamine', 'glycine', 'proline', 'serine', 'tyrosine']\n",
    "\n",
    "org_compound = 'june'\n",
    "if org_compound in aminoacids:\n",
    "    print(org_compound.capitalize() + ' is an amino acid.' )\n",
    "else:\n",
    "    print(org_compound.capitalize() + ' is not an amino acid.')"
   ]
  },
  {
   "cell_type": "markdown",
   "metadata": {},
   "source": [
    "Can add \"and\" and \"or\" for more complex statements \n",
    "- and = multiple conditions must be satisfied\n",
    "- or = one of multiple conditions must be met"
   ]
  },
  {
   "cell_type": "code",
   "execution_count": 4,
   "metadata": {},
   "outputs": [
    {
     "name": "stdout",
     "output_type": "stream",
     "text": [
      "Tyrosine is a non-essential, aromatic amino acid.\n"
     ]
    }
   ],
   "source": [
    "essential = ['histidine', 'lysine', 'threonine', 'tryptophan', \n",
    "             'valine', 'methionine', 'leucine', 'phenylalanine']\n",
    "aromatic = ['phenylalanine', 'tryptophan', 'tyrosine']\n",
    "\n",
    "aa = 'tyrosine'\n",
    "\n",
    "if aa in aromatic and aa in essential:\n",
    "    print(aa.capitalize() + ' is an essential, aromatic amino acid.') \n",
    "# order matters, if it satisfies the first condition, then it ignores the rest\n",
    "elif aa in essential:\n",
    "    print(aa.capitalize() + ' is an essential, non-aromatic amino acid.')\n",
    "elif aa in aromatic:\n",
    "    print(aa.capitalize() + ' is a non-essential, aromatic amino acid.')\n",
    "elif aa in aminoacids:\n",
    "    print(aa.capitalize() + 'is a non-essential amino acid.')\n",
    "else:\n",
    "    print(aa.capitalize() + ' is not an amino acid.')"
   ]
  },
  {
   "cell_type": "markdown",
   "metadata": {},
   "source": [
    "## For loops\n",
    "```python\n",
    "for <ITERATOR> in <ITERABLE>:\n",
    "    do something to iterator\n",
    "```   "
   ]
  },
  {
   "cell_type": "code",
   "execution_count": null,
   "metadata": {},
   "outputs": [],
   "source": [
    "for aa in aminoacids: # don't need to do indexing/ keep track of where you are in the loop\n",
    "    print(aa)"
   ]
  },
  {
   "cell_type": "markdown",
   "metadata": {},
   "source": [
    "#### enumerate()\n",
    "- can be used in a `for` loop to keep track of the index of the iterator. This can be useful for keeping track of the number of iterations completed, accessing other elements in the same list based on their relative index (e.g. the value immediately following the current iterator value), or accessing elements in another list based on the iterator's index.\n"
   ]
  },
  {
   "cell_type": "code",
   "execution_count": 5,
   "metadata": {},
   "outputs": [
    {
     "name": "stdout",
     "output_type": "stream",
     "text": [
      "The #1 most abundant gas in the atmosphere is N2.\n",
      "The #2 most abundant gas in the atmosphere is O2.\n",
      "The #3 most abundant gas in the atmosphere is Ar.\n",
      "The #4 most abundant gas in the atmosphere is H2O.\n",
      "The #5 most abundant gas in the atmosphere is CO2.\n"
     ]
    }
   ],
   "source": [
    "gases = ['N2', 'O2', 'Ar', 'H2O', 'CO2']\n",
    "\n",
    "for i,gas in enumerate(gases):\n",
    "    rank = i + 1\n",
    "    print('The #%d most abundant gas in the atmosphere is %s.' %(rank,gas))\n"
   ]
  },
  {
   "cell_type": "markdown",
   "metadata": {},
   "source": [
    "#### zip()\n",
    "iterate through multiple lists without indexing\n",
    "- nearly always used when each element of one list corresponds to an element in the same index position in another list. Therefore, it should mostly be used with two or more lists of the same length. If the lists do not have the same length, however, the number of iterations of the `for` loop will match the length of the shortest list."
   ]
  },
  {
   "cell_type": "code",
   "execution_count": 6,
   "metadata": {},
   "outputs": [
    {
     "name": "stdout",
     "output_type": "stream",
     "text": [
      "the atomic mass of N2 is approximately 28 \n",
      "the atomic mass of O2 is approximately 32 \n",
      "the atomic mass of Ar is approximately 39 \n",
      "the atomic mass of H2O is approximately 18 \n",
      "the atomic mass of CO2 is approximately 44 \n"
     ]
    }
   ],
   "source": [
    "gases = ['N2', 'O2', 'Ar', 'H2O', 'CO2']\n",
    "masses = [28, 32, 39, 18, 44]\n",
    "\n",
    "for gas,mass in zip(gases, masses):\n",
    "    print(f\"the atomic mass of {gas} is approximately {mass} \")"
   ]
  },
  {
   "cell_type": "markdown",
   "metadata": {},
   "source": [
    "The `enumerate()` and `zip()` functions can also be used together, if necessary, to keep track of the index position of iterators."
   ]
  },
  {
   "cell_type": "code",
   "execution_count": 9,
   "metadata": {},
   "outputs": [
    {
     "name": "stdout",
     "output_type": "stream",
     "text": [
      "There are 1.73e+44 molecules of N2 in the atmosphere.\n",
      "There are 4.06e+43 molecules of O2 in the atmosphere.\n",
      "There are 7.25e+41 molecules of Ar in the atmosphere.\n",
      "There are 4.30e+41 molecules of H2O in the atmosphere.\n",
      "There are 2.21e+40 molecules of CO2 in the atmosphere.\n"
     ]
    }
   ],
   "source": [
    "gas_frac = [0.78084, 0.209476, 0.00934, 0.0025, 0.000314]\n",
    "gas_molar_mass = [14.0067, 15.999, 39.948, 18.01528, 44.01]\n",
    "\n",
    "mass_atmosphere = 5.148e21   # grams\n",
    "n_a = 6.022e23    # Avogadro's number\n",
    "\n",
    "for i,(frac,mol_mass) in enumerate(zip(gas_frac,gas_molar_mass)):\n",
    "    gas = gases[i]\n",
    "    mass = frac * mass_atmosphere\n",
    "    molecules = (mass / mol_mass ) * n_a\n",
    "    print('There are ' + '{:.2e}'.format(molecules) + ' molecules of %s in the atmosphere.' % (gas))"
   ]
  },
  {
   "cell_type": "markdown",
   "metadata": {},
   "source": [
    "# Structured Data"
   ]
  },
  {
   "cell_type": "markdown",
   "metadata": {},
   "source": [
    "Making a set\n",
    "- set([1, 4, 2, 3])\n",
    "OR \n",
    "- {1, 4, 2, 3}"
   ]
  },
  {
   "cell_type": "markdown",
   "metadata": {},
   "source": [
    "### Dictionaries"
   ]
  },
  {
   "cell_type": "markdown",
   "metadata": {},
   "source": [
    "> **TLDR**: Dictionaries are a very common collection type that allows data to be organized using a `key:value` framework. Because of the similarity between `key:value` pairs and many data structures (e.g. \"lookup tables\"), you will see Dictionaries quite a bit when working in python\n",
    "\n",
    "\n",
    "> The use of whitespace and indentation is important in python. In the example above, the dictionary entries are indented relative to the brackets <code>{</code> and <code>}</code>. In addition, there is no space between the <code>'key'</code>, the <code>:</code>, and the <code>'value'</code> for each entry. Finally, notice that there is a <code>,</code> following each dictionary entry. This pattern is the same as all of the other <i>collection</i> data types we've seen so far, including <b>list</b>, <b>set</b>, and <b>tuple</b>."
   ]
  },
  {
   "cell_type": "markdown",
   "metadata": {},
   "source": [
    "Dictionaries have no order, so you can't call the 1st element in a dictionary -- you can only call them by keys NOT POSITION\n",
    "- defined_dictionary['key']"
   ]
  },
  {
   "cell_type": "code",
   "execution_count": null,
   "metadata": {},
   "outputs": [],
   "source": []
  },
  {
   "cell_type": "markdown",
   "metadata": {},
   "source": [
    "## Python is object oriented"
   ]
  },
  {
   "cell_type": "code",
   "execution_count": 3,
   "metadata": {},
   "outputs": [],
   "source": [
    "my_list = list([2, 3, 4, 6, 2])\n",
    "min(my_list)\n",
    "my_list.append(12)\n",
    "# How do we know when to do function(object) or object.function()? "
   ]
  },
  {
   "cell_type": "markdown",
   "metadata": {},
   "source": [
    "A function belongs to an object!!!"
   ]
  }
 ],
 "metadata": {
  "kernelspec": {
   "display_name": "eds217_2023",
   "language": "python",
   "name": "python3"
  },
  "language_info": {
   "codemirror_mode": {
    "name": "ipython",
    "version": 3
   },
   "file_extension": ".py",
   "mimetype": "text/x-python",
   "name": "python",
   "nbconvert_exporter": "python",
   "pygments_lexer": "ipython3",
   "version": "3.10.12"
  },
  "orig_nbformat": 4
 },
 "nbformat": 4,
 "nbformat_minor": 2
}
