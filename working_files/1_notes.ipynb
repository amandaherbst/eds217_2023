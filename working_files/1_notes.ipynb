{
 "cells": [
  {
   "cell_type": "markdown",
   "metadata": {},
   "source": [
    "Integers vs. Floats"
   ]
  },
  {
   "cell_type": "code",
   "execution_count": 1,
   "metadata": {},
   "outputs": [],
   "source": [
    "a = 5 # integer\n",
    "b = 1.0 # float"
   ]
  },
  {
   "cell_type": "code",
   "execution_count": 2,
   "metadata": {},
   "outputs": [],
   "source": [
    "c = a /b # divide integer by float? ... we get a float "
   ]
  },
  {
   "cell_type": "markdown",
   "metadata": {},
   "source": [
    "## Splitting cells\n",
    "- click into a cell\n",
    "- right click --> \"Notebook cell\" --> \"Split Cell\""
   ]
  },
  {
   "cell_type": "markdown",
   "metadata": {},
   "source": [
    "## White space\n",
    "- python is sensitive to white space EXCEPT when inside ()"
   ]
  },
  {
   "cell_type": "markdown",
   "metadata": {},
   "source": [
    "## Lists\n",
    "- can have ANYTHING in a list\n",
    "    - numbers, strings, functions, etc.\n",
    "- are ordered and changeable\n",
    "\n",
    "INDEXING, remember python is 0!!! indexed\n",
    "- 1st position is [0], 2nd position is [1]\n",
    " - last position is [-1] bc you can't have negative zero\n",
    "\n",
    "SLICING, python does not return the end of the list\n",
    "- so if you call [2:4], you will get two items, not three (position 2, position 3, NOT 4)\n",
    "- if you want the last thing, leave open after the :, [2:]\n",
    "- can define a step size: [0:4:2], so will return 0 and 2 positions\n",
    "    - [::-1] returns whole list in reversed order\n",
    "\n",
    "#### List operations\n",
    "- list.append()\n",
    "    - adds to end of the list\n",
    "- list.insert()\n",
    "    - add element into specific position in list\n",
    "    - ex. colors.insert(4, \"purple\")\n",
    "- list.pop()\n",
    "    - removes element\n",
    "    - empty () --> removes last element\n",
    "    - or can designate which position you want to be removed\n",
    "- del list[]\n",
    "    - better to use pop()\n",
    "- list.remove()\n",
    "    - give it the name to remove\n",
    "- list.sort()\n",
    "    - sorts list numerically or alphabetically\n",
    "    - list.sort(reverse=TRUE) sorts in reverse order\n",
    "    - alters original list\n",
    "- sorted(list)\n",
    "    - assign new variable as sorted list\n",
    "- list.copy()\n",
    "    - create a copy\n"
   ]
  }
 ],
 "metadata": {
  "kernelspec": {
   "display_name": "eds217_2023",
   "language": "python",
   "name": "python3"
  },
  "language_info": {
   "codemirror_mode": {
    "name": "ipython",
    "version": 3
   },
   "file_extension": ".py",
   "mimetype": "text/x-python",
   "name": "python",
   "nbconvert_exporter": "python",
   "pygments_lexer": "ipython3",
   "version": "3.10.12"
  },
  "orig_nbformat": 4
 },
 "nbformat": 4,
 "nbformat_minor": 2
}
