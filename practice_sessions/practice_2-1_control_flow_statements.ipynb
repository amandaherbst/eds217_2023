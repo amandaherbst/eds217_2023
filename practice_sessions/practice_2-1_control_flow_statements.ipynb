{
 "cells": [
  {
   "cell_type": "markdown",
   "metadata": {},
   "source": [
    "| [⬅️ Previous Session](practice_1-2_lists.ipynb) | [🏠 Course Home](../index.ipynb) | [➡️ Next Session](practice_2-2_structured_data.ipynb) |\n",
    "\n",
    "# Practice 2-1: Control Flow Statements\n",
    "\n",
    "![control.jpeg](assets/control.jpeg)\n",
    "\n",
    "<hr style=\"border-top: 1px solid gray; margin-top: 24px; margin-bottom: 1px\"></hr>"
   ]
  },
  {
   "cell_type": "markdown",
   "metadata": {},
   "source": [
    "\n",
    "## 📚  Practice 1\n",
    "\n",
    "In programs, <code>if</code> statements are useful for catching errors due to user input. \n",
    "\n",
    "Define two new variables based on user input: the first prompting for a temperature value and the second prompting for the units as \"F\" or \"C\". \n",
    "\n",
    "Using the equation below, write an <code>if</code> statement that converts the temperature input to °C if it was given in °F or to °F if given in °C. Recall that all variables assigned based on user input are strings. Be sure to comment your code.\n",
    "    \n",
    "Formula for conversion between °F and °C:\n",
    "    $$T_{^{\\circ} C} = (T_{^{\\circ} F} - 32) \\times 5/9$$\n"
   ]
  },
  {
   "cell_type": "markdown",
   "metadata": {},
   "source": [
    "Describe your strategy here:\n",
    "- First I created two inputs: temperature value and temperature unit (F or C)\n",
    "- Then I made my first if statement checking if the input temperature was a number using isdigit()\n",
    "    - if it was NOT a number, it prints a statement telling user they need to input only a number\n",
    "- if it is a number, thenn i created a nested if statement for if the input was in F or C. if they put in a different unit, it returns a statement telling them you can only input C or F"
   ]
  },
  {
   "cell_type": "code",
   "execution_count": 12,
   "metadata": {},
   "outputs": [
    {
     "name": "stdout",
     "output_type": "stream",
     "text": [
      "You need to input a number for your starting temperature!\n"
     ]
    }
   ],
   "source": [
    "input_temp = input(\" What is your starting temperature value (without units)? \")\n",
    "input_unit = input(\" What unit is your temperature? (F or C)\")\n",
    "if input_temp.isdigit(): # If the input temperature is a number\n",
    "    if input_unit == \"C\": # If the input temp is in Celcius\n",
    "        temp_f = ((9/5) * float(input_temp)) + 32\n",
    "        print(f\"{input_temp} Celcius is {temp_f} Farenheit\")\n",
    "    elif input_unit == \"F\":\n",
    "        temp_c = (float(input_temp) - 32) * (5/9)\n",
    "        print(f\"{input_temp} Farenheit is {temp_c} Celcius\")\n",
    "    else:\n",
    "        print(\"You need to input units of either C or F\")\n",
    "else:\n",
    "    print(\"You need to input only a number for your starting temperature!\")"
   ]
  },
  {
   "cell_type": "markdown",
   "metadata": {},
   "source": [
    "## 📚  Practice 2. \n",
    "\n",
    "Using nested <code>if</code> statements and your code from Practice question #1, convert the user input temperature to the opposite units (°F to °C or vice versa), print a statement to the user that reports the temperature in the converted units and indicates whether or not the temperature below freezing. \n",
    "\n",
    "Your print statement should look something like:\n",
    "\n",
    "<code>The temperature is {__}°C/F. It is (not) below freezing.</code>\n",
    "\n"
   ]
  },
  {
   "cell_type": "markdown",
   "metadata": {},
   "source": [
    "Describe your strategy here:\n",
    "- I added if statements after determing whether temp is in C or F to determine whether the calculation is above or below the freezing point in that unit\n",
    "- I also added the round() function to round the output to two decimals\n"
   ]
  },
  {
   "cell_type": "code",
   "execution_count": 23,
   "metadata": {},
   "outputs": [
    {
     "name": "stdout",
     "output_type": "stream",
     "text": [
      "The temperature is -25.6°F. It is below freezing\n"
     ]
    }
   ],
   "source": [
    "input_temp = input(\" What is your starting temperature value (without units)? \")\n",
    "input_temp = float(input_temp)\n",
    "input_unit = input(\" What unit is your temperature? (F or C)\")\n",
    "\n",
    "if isinstance(input_temp, float): # If the input temperature is a number\n",
    "    if input_unit == \"C\": # If the input temp is in Celcius\n",
    "        temp_f = ((9/5) * float(input_temp)) + 32\n",
    "        if temp_f <= 32:\n",
    "            print(f\"The temperature is {round(temp_f, 2)}°F. It is below freezing\")\n",
    "        else:\n",
    "            print(f\"The temperature is {round(temp_f, 2)}°F. It is above freezing\")\n",
    "    elif input_unit == \"F\":\n",
    "        temp_c = (float(input_temp) - 32) * (5/9)\n",
    "        if temp_c <= 0:\n",
    "            print(f\"The temperature is {round(temp_c, 2)}°C. It is below freezing\")\n",
    "        else:\n",
    "            print(f\"The temperature is {round(temp_c, 2)}°C. It is above freezing\")\n",
    "    else:\n",
    "        print(\"You need to input units of either C or F\")\n",
    "else:\n",
    "    print(\"You need to input only a number for your starting temperature!\")\n"
   ]
  },
  {
   "cell_type": "markdown",
   "metadata": {},
   "source": [
    "## 📚  <b> Practice 3. </b> \n",
    "\n",
    "1. Create a list of the six organic elements sorted in alphabetical order and then print each element in the list.\n",
    "\n",
    "Given your sorted <code>org_elements</code> list and the corresponding list of atomic masses given in the cell below, use <code>enumerate()</code> in a <code>for</code> loop to print a formatted statement that expresses the atomic mass of of each element. \n",
    "\n",
    "Your formatted print statement should include the name of the element, the atomic mass rounded to 2 decimal places, and units.\n",
    "\n"
   ]
  },
  {
   "cell_type": "markdown",
   "metadata": {},
   "source": [
    "Describe your strategy here:\n",
    "\n"
   ]
  },
  {
   "cell_type": "code",
   "execution_count": 25,
   "metadata": {},
   "outputs": [
    {
     "name": "stdout",
     "output_type": "stream",
     "text": [
      "The atomic mass of Carbon is 12.01 g/mol.\n",
      "The atomic mass of Hydrogen is 1.01 g/mol.\n",
      "The atomic mass of Nitrogen is 14.01 g/mol.\n",
      "The atomic mass of Oxygen is 16.0 g/mol.\n",
      "The atomic mass of Phosphorous is 30.97 g/mol.\n",
      "The atomic mass of Sulfur is 32.06 g/mol.\n"
     ]
    }
   ],
   "source": [
    "org_elements = ['Carbon', 'Hydrogen', 'Nitrogen', 'Oxygen', 'Phosphorous', 'Sulfur']\n",
    "atomic_mass = [12.011, 1.00784, 14.0067, 15.999, 30.97376, 32.065]  # g/mol\n",
    "\n",
    "for i, (name, mass) in enumerate(zip(org_elements, atomic_mass)):\n",
    "    print(f\"The atomic mass of {name} is {round(mass, 2)} g/mol.\")"
   ]
  },
  {
   "cell_type": "markdown",
   "metadata": {},
   "source": [
    "## 📚  <b> Practice 4. </b> \n",
    "The cell below contains monthly global land-ocean surface temperature in °F for each month during the years 2015-2022. \n",
    "\n",
    "Using  <code>enumerate()</code>, <code>zip()</code>, a nested <code>for</code> loop, or some combination of the three:\n",
    "\n",
    "<ol class=\"alpha\">\n",
    "<li> Calculate the monthly global land-ocean surface temperature anomalies (deviation from the mean) in °C for 2015-2018. The mean global land-ocean surface temperature calculated over the 20th century was 15.6°C.</li>\n",
    "<li> Create a new list with the mean monthly global surface temperature anomalies in °C for 2015-2023 (i.e. calculate the mean temperature anomaly for each month and put these values in a list). Use the command <code>np.mean()</code> to calculate mean values. </li> \n",
    "<li> Print each monthly mean value with the name of the month and units. </li>\n",
    "</ol>\n",
    "</div>"
   ]
  },
  {
   "cell_type": "code",
   "execution_count": 2,
   "metadata": {},
   "outputs": [
    {
     "name": "stdout",
     "output_type": "stream",
     "text": [
      "Intel MKL WARNING: Support of Intel(R) Streaming SIMD Extensions 4.2 (Intel(R) SSE4.2) enabled only processors has been deprecated. Intel oneAPI Math Kernel Library 2025.0 will require Intel(R) Advanced Vector Extensions (Intel(R) AVX) instructions.\n",
      "Intel MKL WARNING: Support of Intel(R) Streaming SIMD Extensions 4.2 (Intel(R) SSE4.2) enabled only processors has been deprecated. Intel oneAPI Math Kernel Library 2025.0 will require Intel(R) Advanced Vector Extensions (Intel(R) AVX) instructions.\n"
     ]
    }
   ],
   "source": [
    "# Import numpy for mean calculations\n",
    "import numpy as np\n",
    "\n",
    "tempF_2015 = [61.628, 61.7, 61.808, 61.448, 61.52, 61.538, 61.394, 61.52, 61.61, 62.042, 61.988, 62.168]\n",
    "tempF_2016 = [62.186, 62.546, 62.528, 62.06, 61.79, 61.52, 61.61, 61.916, 61.718, 61.682, 61.736, 61.628]\n",
    "tempF_2017 = [61.916, 62.132, 62.168, 61.772, 61.718, 61.376, 61.556, 61.646, 61.466, 61.7, 61.664, 61.754]\n",
    "tempF_2018 = [61.556, 61.61, 61.664, 61.682, 61.556, 61.466, 61.556, 61.448, 61.52, 61.916, 61.556, 61.718]\n",
    "tempF_2019 = [61.754, 61.79, 62.186, 61.898, 61.61, 61.7, 61.772, 61.79, 61.754, 61.898, 61.862, 62.042]\n",
    "tempF_2020 = [62.186, 62.312, 62.186, 62.114, 61.898, 61.736, 61.7, 61.646, 61.862, 61.664, 62.06, 61.538]\n",
    "tempF_2021 = [61.538, 61.232, 61.664, 61.43, 61.484, 61.592, 61.736, 61.556, 61.736, 61.88, 61.772, 61.61]\n",
    "\n",
    "# List of yearly lists (may or may not be useful)\n",
    "tempF_list = [tempF_2015, tempF_2016, tempF_2017, tempF_2018, tempF_2019, tempF_2020, tempF_2021]\n",
    "\n",
    "# List of years (probably useful)\n",
    "years = [2015, 2016, 2017, 2018, 2019, 2020, 2021]"
   ]
  },
  {
   "cell_type": "markdown",
   "metadata": {},
   "source": [
    "- Calculate the monthly global land-ocean surface temperature anomalies (deviation from the mean) in °C for 2015-2018. The mean global land-ocean surface temperature calculated over the 20th century was 15.6°C.\n",
    "- create a new list with the mean monthly global surface temperature anomalies in °C for 2015-2023 (i.e. calculate the mean temperature anomaly for each month and put these values in a list). Use the command <code>np.mean()</code> to calculate mean values.\n",
    "- Print each monthly mean value with the name of the month and units.\n",
    "\n"
   ]
  },
  {
   "cell_type": "code",
   "execution_count": 17,
   "metadata": {},
   "outputs": [
    {
     "name": "stdout",
     "output_type": "stream",
     "text": [
      "[[16.46, 16.500000000000004, 16.560000000000002, 16.36, 16.400000000000002, 16.41, 16.33, 16.400000000000002, 16.45, 16.69, 16.66, 16.76], [16.77, 16.97, 16.96, 16.700000000000003, 16.55, 16.400000000000002, 16.45, 16.619999999999997, 16.51, 16.490000000000002, 16.52, 16.46], [16.619999999999997, 16.74, 16.76, 16.54, 16.51, 16.32, 16.419999999999998, 16.470000000000002, 16.37, 16.500000000000004, 16.48, 16.53], [16.419999999999998, 16.45, 16.48, 16.490000000000002, 16.419999999999998, 16.37, 16.419999999999998, 16.36, 16.400000000000002, 16.619999999999997, 16.419999999999998, 16.51], [16.53, 16.55, 16.77, 16.610000000000003, 16.45, 16.500000000000004, 16.54, 16.55, 16.53, 16.610000000000003, 16.590000000000003, 16.69], [16.77, 16.84, 16.77, 16.73, 16.610000000000003, 16.52, 16.500000000000004, 16.470000000000002, 16.590000000000003, 16.48, 16.700000000000003, 16.41], [16.41, 16.240000000000002, 16.48, 16.35, 16.380000000000003, 16.44, 16.52, 16.419999999999998, 16.52, 16.6, 16.54, 16.45]]\n",
      "the 1 month has an anomaly mean of 0.8983333333333346\n",
      "the 2 month has an anomaly mean of 0.957500000000001\n",
      "the 3 month has an anomaly mean of 0.9455555555555565\n",
      "the 4 month has an anomaly mean of 0.920833333333334\n",
      "the 5 month has an anomaly mean of 0.9320000000000009\n",
      "the 6 month has an anomaly mean of 0.9459722222222232\n",
      "the 7 month has an anomaly mean of 0.9316666666666675\n"
     ]
    }
   ],
   "source": [
    "temp_anomalies = []\n",
    "tempC_list = []\n",
    "anomalies_list = []\n",
    "\n",
    "for i,(temp, year) in enumerate(zip(tempF_list, years)):\n",
    "    temp_c = [((x - 32) * (5/9)) for x in temp]\n",
    "    tempC_list.append(temp_c)\n",
    "    temp_anomalies.append([(y - 15.6) for y in temp_c])\n",
    "    # for i in range(len(years)):\n",
    "    #     january_mean = (temp_anomalies[i][i] + temp_anomalies[i+1][i]\n",
    "\n",
    "print(tempC_list)\n",
    "\n",
    "for i,tempc in enumerate(tempC_list):\n",
    "    diff_by_month = [(y - 15.6) for y in tempc]\n",
    "    anomalies_list.append(diff_by_month)\n",
    "    month_mean = np.mean(anomalies_list)\n",
    "    print(f\"the {i+1} month has an anomaly mean of {month_mean}\")\n"
   ]
  },
  {
   "cell_type": "code",
   "execution_count": 7,
   "metadata": {},
   "outputs": [
    {
     "name": "stdout",
     "output_type": "stream",
     "text": [
      "The monthly mean value for 2015 is 16.5°C\n",
      "The monthly mean value for 2016 is 16.6°C\n",
      "The monthly mean value for 2017 is 16.5°C\n",
      "The monthly mean value for 2018 is 16.4°C\n",
      "The monthly mean value for 2019 is 16.6°C\n",
      "The monthly mean value for 2020 is 16.6°C\n",
      "The monthly mean value for 2021 is 16.4°C\n",
      "[-0.04  0.    0.06 -0.14 -0.1  -0.09 -0.17 -0.1  -0.05  0.19  0.16  0.26\n",
      "  0.15  0.35  0.34  0.08 -0.07 -0.22 -0.17  0.   -0.11 -0.13 -0.1  -0.16\n",
      "  0.1   0.22  0.24  0.02 -0.01 -0.2  -0.1  -0.05 -0.15 -0.02 -0.04  0.01\n",
      " -0.03  0.    0.03  0.04 -0.03 -0.08 -0.03 -0.09 -0.05  0.17 -0.03  0.06\n",
      " -0.05 -0.03  0.19  0.03 -0.13 -0.08 -0.04 -0.03 -0.05  0.03  0.01  0.11\n",
      "  0.15  0.22  0.15  0.11 -0.01 -0.1  -0.12 -0.15 -0.03 -0.14  0.08 -0.21\n",
      " -0.04 -0.21  0.03 -0.1  -0.07 -0.01  0.07 -0.03  0.07  0.15  0.09  0.  ]\n",
      "84\n"
     ]
    }
   ],
   "source": [
    "#tempC_list = [tempC_2015, tempC_2016, tempC_2017, tempC_2018, tempC_2019, tempC_2020, tempC_2021]\n",
    "temp_anomalies = []\n",
    "\n",
    "for i,(temp, year) in enumerate(zip(tempF_list, years)):\n",
    "   temp_c = [((x - 32) * (5/9)) for x in temp]\n",
    "   year_mean = np.mean(temp_c)\n",
    "   temp_anomalies = np.append(temp_anomalies, [round(y - year_mean, 2) for y in temp_c])\n",
    "   # mean_anomalies = np.mean(temp_anomalies)\n",
    "   print(f\"The monthly mean value for {year} is {round(year_mean,1)}°C\")\n",
    "\n",
    "print(temp_anomalies)\n",
    "\n",
    "print(len(temp_anomalies))"
   ]
  },
  {
   "cell_type": "markdown",
   "metadata": {},
   "source": [
    "# Final Solution"
   ]
  },
  {
   "cell_type": "code",
   "execution_count": 24,
   "metadata": {},
   "outputs": [],
   "source": [
    "# Get temps in C and anomalies in C\n",
    "tempC_list = []\n",
    "anomC_list = []\n",
    "\n",
    "mean_temp = 15.6\n",
    "\n",
    "for year_data in tempF_list:\n",
    "    # print(year_data)\n",
    "    year_C = []\n",
    "    year_C_anom = []\n",
    "    for value in year_data:\n",
    "        C_value = (value-32) * (5/9)\n",
    "        year_C.append((value-32) * (5/9))\n",
    "        year_C_anom.append(C_value - mean_temp)\n",
    "    tempC_list.append(year_C)\n",
    "    anomC_list.append(year_C_anom)\n",
    "\n",
    "# print(anomC_list)\n",
    "\n",
    "monthly_anomalies = []\n",
    "for i in range(12): # 12 months \n",
    "    month_vals = []\n",
    "    for j in range(7): # 7 years\n",
    "        month_vals.append(anomC_list[j][i])\n",
    "    monthly_anomalies.append(np.mean(month_vals))\n",
    "\n",
    "    "
   ]
  },
  {
   "cell_type": "code",
   "execution_count": 29,
   "metadata": {},
   "outputs": [
    {
     "data": {
      "text/plain": [
       "<BarContainer object of 12 artists>"
      ]
     },
     "execution_count": 29,
     "metadata": {},
     "output_type": "execute_result"
    },
    {
     "data": {
      "image/png": "[encoded data removed]",
      "text/plain": [
       "<Figure size 640x480 with 1 Axes>"
      ]
     },
     "metadata": {},
     "output_type": "display_data"
    }
   ],
   "source": [
    "months = ['Jan', 'Feb', 'Mar', 'Apr', 'May', 'June', 'Jul', 'Aug', 'Sep', 'Oct', 'Nov', 'Dec']\n",
    "import matplotlib.pyplot as plt\n",
    "\n",
    "plt.bar(months, avg_month_anom)"
   ]
  },
  {
   "cell_type": "markdown",
   "metadata": {},
   "source": [
    "# Another way"
   ]
  },
  {
   "cell_type": "code",
   "execution_count": 28,
   "metadata": {},
   "outputs": [
    {
     "name": "stdout",
     "output_type": "stream",
     "text": [
      "[0.9685714285714315, 1.0128571428571451, 1.0828571428571419, 0.9399999999999995, 0.8742857142857172, 0.8228571428571438, 0.8542857142857105, 0.8700000000000028, 0.881428571428577, 0.9700000000000006, 0.95857142857143, 0.944285714285714]\n"
     ]
    }
   ],
   "source": [
    "avg_month_F = []\n",
    "avg_month_C = []\n",
    "avg_month_anom = []\n",
    "\n",
    "for i in zip(tempF_2015, tempF_2016, tempF_2017, tempF_2018, tempF_2019, tempF_2020, tempF_2021):\n",
    "    avg_F = np.mean(i)\n",
    "    avg_C = (avg_F - 32) * (5/9)\n",
    "    avg_month_F.append(np.mean(i))\n",
    "    avg_month_C.append(avg_C)\n",
    "    avg_month_anom.append(avg_C - 15.6)\n",
    "\n",
    "print(avg_month_anom)"
   ]
  },
  {
   "cell_type": "markdown",
   "metadata": {},
   "source": [
    "## 📚  Practice 5.\n",
    "\n",
    "Use a list comprehension to print a list of all months that had an anomaly above the average monthly anomaly.\n",
    "\n",
    "Some helpful code is provided below:\n",
    "```python\n",
    "months = ['January', 'February', 'March', 'April', 'May', 'June', 'July', 'August', 'September', 'October', 'November', 'December']\n",
    "\n",
    "average_anomaly = np.mean(mean_monthly_anomalies)\n",
    "\n",
    "```\n",
    "Recall that list comprehensions can contain <code>if</code> statements. For example:\n",
    "\n",
    "[<code>item</code> for <code>item</code> in <code>list</code> if <code>item</code> > <code>value</code>]\n",
    "\n",
    "And they can also contain enumerate statements:\n",
    "\n",
    "[<code>item</code> for <code>index,item</code> in <code>enumerate(list)</code> if <code>other_list[index]</code> > <code>value</code>]"
   ]
  },
  {
   "cell_type": "markdown",
   "metadata": {},
   "source": [
    "Describe your strategy here:\n",
    "\n"
   ]
  },
  {
   "cell_type": "code",
   "execution_count": 69,
   "metadata": {},
   "outputs": [],
   "source": [
    "# Add your code here:"
   ]
  }
 ],
 "metadata": {
  "kernelspec": {
   "display_name": "eds217_2023",
   "language": "python",
   "name": "python3"
  },
  "language_info": {
   "codemirror_mode": {
    "name": "ipython",
    "version": 3
   },
   "file_extension": ".py",
   "mimetype": "text/x-python",
   "name": "python",
   "nbconvert_exporter": "python",
   "pygments_lexer": "ipython3",
   "version": "3.10.12"
  },
  "orig_nbformat": 4
 },
 "nbformat": 4,
 "nbformat_minor": 2
}
