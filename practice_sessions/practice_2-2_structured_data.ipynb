{
 "cells": [
  {
   "cell_type": "markdown",
   "metadata": {
    "slideshow": {
     "slide_type": "slide"
    }
   },
   "source": [
    "| [⬅️ Previous Session](practice_2-1_control_flow_statements.ipynb) | [🏠 Course Home](../index.ipynb) | [➡️ Next Session](practice_3-1_numpy.ipynb) |\n",
    "\n",
    "# Practice 1-4: Structured Data in Python"
   ]
  },
  {
   "cell_type": "markdown",
   "metadata": {},
   "source": [
    "## 📚  <b> Practice 1. </b> \n",
    "\n",
    "Dictionaries are an extremely common data structure. Often data is easiest to store according to keys, where each row of data has a unique key. \n",
    "\n",
    "For example, a dictionary of students might have a key for each student's name or id, and then a set of values that are associated with that student.\n",
    "\n",
    "### Make a dictionary of your peers.\n",
    "\n",
    "Come up with 3-4 questions and ask 5-6 of your peers to give answers to each one. The questions can be anything you want, but they should be questions that can be answered with a single word or number.\n",
    "\n",
    "For example, you might ask:\n",
    "- What is your favorite color? (pretty weak question)\n",
    "- How many siblings do you have? (ok, but not great)\n",
    "- What is your favorite genre of film? (better)\n",
    "- On a scale of 1-10, how well do you feel that you understand python dictionaries? (better still)\n"
   ]
  },
  {
   "cell_type": "markdown",
   "metadata": {},
   "source": [
    "- What is your favorite ice cream flavor?\n",
    "- On a scale of 1 -10 how excited are you for the weekend?\n",
    "- What color are your eyes?"
   ]
  },
  {
   "cell_type": "markdown",
   "metadata": {},
   "source": [
    "\n",
    "Make sure you have a key for each person, and then a set of values for each question. \n",
    "\n",
    "Based on each person's responses, build a dictionary in the cell below:\n",
    "\n",
    "(note: You will end up with a dictionary of dictionaries)\n",
    "\n",
    "```python\n",
    "# Example:\n",
    "my_dict = {\n",
    "    'person1': {\n",
    "        'question1': 'answer1',\n",
    "        'question2': 'answer2',\n",
    "        'question3': 'answer3',\n",
    "        'question4': 'answer4',\n",
    "    },\n",
    "    'person2': {\n",
    "        'question1': 'answer1',\n",
    "        'question2': 'answer2',\n",
    "        'question3': 'answer3',\n",
    "        'question4': 'answer4',\n",
    "    },\n",
    "    'person3': {\n",
    "        'question1': 'answer1',\n",
    "        'question2': 'answer2',\n",
    "        'question3': 'answer3',\n",
    "        'question4': 'answer4',\n",
    "    },\n",
    "}\n",
    "```"
   ]
  },
  {
   "cell_type": "markdown",
   "metadata": {},
   "source": [
    "- What is your favorite ice cream flavor?\n",
    "- On a scale of 1 -10 how excited are you for the weekend?\n",
    "- What color are your eyes?"
   ]
  },
  {
   "cell_type": "code",
   "execution_count": 3,
   "metadata": {},
   "outputs": [],
   "source": [
    "my_dict = {\n",
    "    'Luna':{\n",
    "        'What is your favorite ice cream flavor?':'mint chocolate chip', \n",
    "        'On a scale of 1 -10 how excited are you for the weekend?':'8',\n",
    "        'What color are your eyes?':'brown'\n",
    "    },\n",
    "    'Diana':{\n",
    "        'What is your favorite ice cream flavor?':'mint chocolate chip', \n",
    "        'On a scale of 1 -10 how excited are you for the weekend?':'10',\n",
    "        'What color are your eyes?':'brown'\n",
    "    },\n",
    "    'Anna':{\n",
    "        'What is your favorite ice cream flavor?':'matcha', \n",
    "        'On a scale of 1 -10 how excited are you for the weekend?':'6',\n",
    "        'What color are your eyes?':'hazel'\n",
    "    },\n",
    "    'Hope':{\n",
    "        'What is your favorite ice cream flavor?':'chocolate', \n",
    "        'On a scale of 1 -10 how excited are you for the weekend?':'11',\n",
    "        'What color are your eyes?':'brown'\n",
    "    },\n",
    "    'Annie':{\n",
    "        'What is your favorite ice cream flavor?':'tonight dough', \n",
    "        'On a scale of 1 -10 how excited are you for the weekend?':'11',\n",
    "        'What color are your eyes?':'green'\n",
    "    },\n",
    "}"
   ]
  },
  {
   "cell_type": "markdown",
   "metadata": {},
   "source": [
    "## Dictionary to dataframe\n",
    "\n",
    "Now that you have a dictionary, you can convert it to a dataframe.\n",
    "\n",
    "### Convert your dictionary to a dataframe\n",
    "\n",
    "Use the `pd.DataFrame()` function to convert your dictionary to a dataframe.\n",
    "\n",
    "```python\n",
    "import pandas as pd\n",
    "\n",
    "# Convert a dictionary to a dataframe\n",
    "df = pd.DataFrame(my_dict)\n",
    "```\n"
   ]
  },
  {
   "cell_type": "code",
   "execution_count": 5,
   "metadata": {},
   "outputs": [],
   "source": [
    "import pandas as pd"
   ]
  },
  {
   "cell_type": "code",
   "execution_count": 8,
   "metadata": {},
   "outputs": [
    {
     "name": "stdout",
     "output_type": "stream",
     "text": [
      "                                                                   Luna  \\\n",
      "What is your favorite ice cream flavor?             mint chocolate chip   \n",
      "On a scale of 1 -10 how excited are you for the...                    8   \n",
      "What color are your eyes?                                         brown   \n",
      "\n",
      "                                                                  Diana  \\\n",
      "What is your favorite ice cream flavor?             mint chocolate chip   \n",
      "On a scale of 1 -10 how excited are you for the...                   10   \n",
      "What color are your eyes?                                         brown   \n",
      "\n",
      "                                                      Anna       Hope  \\\n",
      "What is your favorite ice cream flavor?             matcha  chocolate   \n",
      "On a scale of 1 -10 how excited are you for the...       6         11   \n",
      "What color are your eyes?                            hazel      brown   \n",
      "\n",
      "                                                            Annie  \n",
      "What is your favorite ice cream flavor?             tonight dough  \n",
      "On a scale of 1 -10 how excited are you for the...             11  \n",
      "What color are your eyes?                                   green  \n"
     ]
    }
   ],
   "source": [
    "my_responses_df = pd.DataFrame(my_dict)\n",
    "print(my_responses_df)"
   ]
  },
  {
   "cell_type": "markdown",
   "metadata": {},
   "source": [
    "\n",
    "### Investigate your dataframe using the following functions:\n",
    "\n",
    "- `df.head()`\n",
    "- `df.tail()`\n",
    "- `df.info()`\n",
    "\n"
   ]
  },
  {
   "cell_type": "code",
   "execution_count": 11,
   "metadata": {},
   "outputs": [
    {
     "name": "stdout",
     "output_type": "stream",
     "text": [
      "<class 'pandas.core.frame.DataFrame'>\n",
      "Index: 3 entries, What is your favorite ice cream flavor? to What color are your eyes?\n",
      "Data columns (total 5 columns):\n",
      " #   Column  Non-Null Count  Dtype \n",
      "---  ------  --------------  ----- \n",
      " 0   Luna    3 non-null      object\n",
      " 1   Diana   3 non-null      object\n",
      " 2   Anna    3 non-null      object\n",
      " 3   Hope    3 non-null      object\n",
      " 4   Annie   3 non-null      object\n",
      "dtypes: object(5)\n",
      "memory usage: 144.0+ bytes\n"
     ]
    }
   ],
   "source": [
    "my_responses_df.info()"
   ]
  },
  {
   "cell_type": "code",
   "execution_count": 12,
   "metadata": {},
   "outputs": [
    {
     "data": {
      "text/html": [
       "<div>\n",
       "<style scoped>\n",
       "    .dataframe tbody tr th:only-of-type {\n",
       "        vertical-align: middle;\n",
       "    }\n",
       "\n",
       "    .dataframe tbody tr th {\n",
       "        vertical-align: top;\n",
       "    }\n",
       "\n",
       "    .dataframe thead th {\n",
       "        text-align: right;\n",
       "    }\n",
       "</style>\n",
       "<table border=\"1\" class=\"dataframe\">\n",
       "  <thead>\n",
       "    <tr style=\"text-align: right;\">\n",
       "      <th></th>\n",
       "      <th>Luna</th>\n",
       "      <th>Diana</th>\n",
       "      <th>Anna</th>\n",
       "      <th>Hope</th>\n",
       "      <th>Annie</th>\n",
       "    </tr>\n",
       "  </thead>\n",
       "  <tbody>\n",
       "    <tr>\n",
       "      <th>What is your favorite ice cream flavor?</th>\n",
       "      <td>mint chocolate chip</td>\n",
       "      <td>mint chocolate chip</td>\n",
       "      <td>matcha</td>\n",
       "      <td>chocolate</td>\n",
       "      <td>tonight dough</td>\n",
       "    </tr>\n",
       "    <tr>\n",
       "      <th>On a scale of 1 -10 how excited are you for the weekend?</th>\n",
       "      <td>8</td>\n",
       "      <td>10</td>\n",
       "      <td>6</td>\n",
       "      <td>11</td>\n",
       "      <td>11</td>\n",
       "    </tr>\n",
       "    <tr>\n",
       "      <th>What color are your eyes?</th>\n",
       "      <td>brown</td>\n",
       "      <td>brown</td>\n",
       "      <td>hazel</td>\n",
       "      <td>brown</td>\n",
       "      <td>green</td>\n",
       "    </tr>\n",
       "  </tbody>\n",
       "</table>\n",
       "</div>"
      ],
      "text/plain": [
       "                                                                   Luna  \\\n",
       "What is your favorite ice cream flavor?             mint chocolate chip   \n",
       "On a scale of 1 -10 how excited are you for the...                    8   \n",
       "What color are your eyes?                                         brown   \n",
       "\n",
       "                                                                  Diana  \\\n",
       "What is your favorite ice cream flavor?             mint chocolate chip   \n",
       "On a scale of 1 -10 how excited are you for the...                   10   \n",
       "What color are your eyes?                                         brown   \n",
       "\n",
       "                                                      Anna       Hope  \\\n",
       "What is your favorite ice cream flavor?             matcha  chocolate   \n",
       "On a scale of 1 -10 how excited are you for the...       6         11   \n",
       "What color are your eyes?                            hazel      brown   \n",
       "\n",
       "                                                            Annie  \n",
       "What is your favorite ice cream flavor?             tonight dough  \n",
       "On a scale of 1 -10 how excited are you for the...             11  \n",
       "What color are your eyes?                                   green  "
      ]
     },
     "execution_count": 12,
     "metadata": {},
     "output_type": "execute_result"
    }
   ],
   "source": [
    "my_responses_df.head()"
   ]
  },
  {
   "cell_type": "markdown",
   "metadata": {},
   "source": [
    "Is your dataframe what you expected? If not, what is different? Why?? How would you need to change your data structure to get the dataframe you expected?"
   ]
  },
  {
   "cell_type": "code",
   "execution_count": null,
   "metadata": {},
   "outputs": [],
   "source": []
  },
  {
   "cell_type": "markdown",
   "metadata": {},
   "source": [
    "\n",
    "\n",
    "`df.transpose()` might be helpful here. What does it do?\n",
    "create a new dataframe that is a transposed version of your original dataframe.\n",
    "\n",
    "```python\n",
    "# Transpose a dataframe\n",
    "df_transposed = df.transpose()\n",
    "```"
   ]
  },
  {
   "cell_type": "code",
   "execution_count": 16,
   "metadata": {},
   "outputs": [
    {
     "data": {
      "text/html": [
       "<div>\n",
       "<style scoped>\n",
       "    .dataframe tbody tr th:only-of-type {\n",
       "        vertical-align: middle;\n",
       "    }\n",
       "\n",
       "    .dataframe tbody tr th {\n",
       "        vertical-align: top;\n",
       "    }\n",
       "\n",
       "    .dataframe thead th {\n",
       "        text-align: right;\n",
       "    }\n",
       "</style>\n",
       "<table border=\"1\" class=\"dataframe\">\n",
       "  <thead>\n",
       "    <tr style=\"text-align: right;\">\n",
       "      <th></th>\n",
       "      <th>What is your favorite ice cream flavor?</th>\n",
       "      <th>On a scale of 1 -10 how excited are you for the weekend?</th>\n",
       "      <th>What color are your eyes?</th>\n",
       "    </tr>\n",
       "  </thead>\n",
       "  <tbody>\n",
       "    <tr>\n",
       "      <th>Luna</th>\n",
       "      <td>mint chocolate chip</td>\n",
       "      <td>8</td>\n",
       "      <td>brown</td>\n",
       "    </tr>\n",
       "    <tr>\n",
       "      <th>Diana</th>\n",
       "      <td>mint chocolate chip</td>\n",
       "      <td>10</td>\n",
       "      <td>brown</td>\n",
       "    </tr>\n",
       "    <tr>\n",
       "      <th>Anna</th>\n",
       "      <td>matcha</td>\n",
       "      <td>6</td>\n",
       "      <td>hazel</td>\n",
       "    </tr>\n",
       "    <tr>\n",
       "      <th>Hope</th>\n",
       "      <td>chocolate</td>\n",
       "      <td>11</td>\n",
       "      <td>brown</td>\n",
       "    </tr>\n",
       "    <tr>\n",
       "      <th>Annie</th>\n",
       "      <td>tonight dough</td>\n",
       "      <td>11</td>\n",
       "      <td>green</td>\n",
       "    </tr>\n",
       "  </tbody>\n",
       "</table>\n",
       "</div>"
      ],
      "text/plain": [
       "      What is your favorite ice cream flavor?  \\\n",
       "Luna                      mint chocolate chip   \n",
       "Diana                     mint chocolate chip   \n",
       "Anna                                   matcha   \n",
       "Hope                                chocolate   \n",
       "Annie                           tonight dough   \n",
       "\n",
       "      On a scale of 1 -10 how excited are you for the weekend?  \\\n",
       "Luna                                                   8         \n",
       "Diana                                                 10         \n",
       "Anna                                                   6         \n",
       "Hope                                                  11         \n",
       "Annie                                                 11         \n",
       "\n",
       "      What color are your eyes?  \n",
       "Luna                      brown  \n",
       "Diana                     brown  \n",
       "Anna                      hazel  \n",
       "Hope                      brown  \n",
       "Annie                     green  "
      ]
     },
     "execution_count": 16,
     "metadata": {},
     "output_type": "execute_result"
    }
   ],
   "source": [
    "# Transpose your dataframe so that the people are the rows and the questions are the columns.\n",
    "my_responses_df_transposed = my_responses_df.transpose()\n",
    "\n",
    "my_responses_df_transposed.head()\n"
   ]
  },
  {
   "cell_type": "markdown",
   "metadata": {},
   "source": [
    "### Visualize/summarize your dataframe using one or more of the following functions:\n",
    "\n",
    "- `df.describe()`\n",
    "- `df.plot()`\n",
    "- `df.hist()`"
   ]
  },
  {
   "cell_type": "code",
   "execution_count": 25,
   "metadata": {},
   "outputs": [
    {
     "data": {
      "text/html": [
       "<div>\n",
       "<style scoped>\n",
       "    .dataframe tbody tr th:only-of-type {\n",
       "        vertical-align: middle;\n",
       "    }\n",
       "\n",
       "    .dataframe tbody tr th {\n",
       "        vertical-align: top;\n",
       "    }\n",
       "\n",
       "    .dataframe thead th {\n",
       "        text-align: right;\n",
       "    }\n",
       "</style>\n",
       "<table border=\"1\" class=\"dataframe\">\n",
       "  <thead>\n",
       "    <tr style=\"text-align: right;\">\n",
       "      <th></th>\n",
       "      <th>What is your favorite ice cream flavor?</th>\n",
       "      <th>On a scale of 1 -10 how excited are you for the weekend?</th>\n",
       "      <th>What color are your eyes?</th>\n",
       "    </tr>\n",
       "  </thead>\n",
       "  <tbody>\n",
       "    <tr>\n",
       "      <th>count</th>\n",
       "      <td>5</td>\n",
       "      <td>5</td>\n",
       "      <td>5</td>\n",
       "    </tr>\n",
       "    <tr>\n",
       "      <th>unique</th>\n",
       "      <td>4</td>\n",
       "      <td>4</td>\n",
       "      <td>3</td>\n",
       "    </tr>\n",
       "    <tr>\n",
       "      <th>top</th>\n",
       "      <td>mint chocolate chip</td>\n",
       "      <td>11</td>\n",
       "      <td>brown</td>\n",
       "    </tr>\n",
       "    <tr>\n",
       "      <th>freq</th>\n",
       "      <td>2</td>\n",
       "      <td>2</td>\n",
       "      <td>3</td>\n",
       "    </tr>\n",
       "  </tbody>\n",
       "</table>\n",
       "</div>"
      ],
      "text/plain": [
       "       What is your favorite ice cream flavor?  \\\n",
       "count                                        5   \n",
       "unique                                       4   \n",
       "top                        mint chocolate chip   \n",
       "freq                                         2   \n",
       "\n",
       "       On a scale of 1 -10 how excited are you for the weekend?  \\\n",
       "count                                                   5         \n",
       "unique                                                  4         \n",
       "top                                                    11         \n",
       "freq                                                    2         \n",
       "\n",
       "       What color are your eyes?  \n",
       "count                          5  \n",
       "unique                         3  \n",
       "top                        brown  \n",
       "freq                           3  "
      ]
     },
     "execution_count": 25,
     "metadata": {},
     "output_type": "execute_result"
    }
   ],
   "source": [
    "my_responses_df_transposed.describe()"
   ]
  },
  {
   "cell_type": "markdown",
   "metadata": {},
   "source": [
    "## 📚  <b> Practice 2. </b>\n",
    "\n",
    "### Structured data search: Find structured data on the internet and convert it to a dataframe.\n",
    "\n",
    "You're looking for data that is in a table format, like a spreadsheet, but not available as an easy to download `.csv` or `.excel` file. This turns out to describe a lot of data!\n",
    "\n",
    "Often you can find this kind of data on wikipedia, or on government websites, or in research articles that contain tables of results.\n"
   ]
  },
  {
   "cell_type": "code",
   "execution_count": 36,
   "metadata": {},
   "outputs": [],
   "source": [
    "environmental_conditions = {\n",
    "    1: {\n",
    "        'Year':2002,\n",
    "        'Day of opening (DOO)': 163,\n",
    "        'Day of retreat (DOR)': 186,\n",
    "        'Seasonal loss of ice period (SLIP)': 23,\n",
    "        'Maximum chlorophyll a concentration (mg/m3)': 1.45,\n",
    "        'Summer sea surface temperature (C)': 3.78\n",
    "    },\n",
    "    2: {\n",
    "        'Year':2003,\n",
    "        'Day of opening (DOO)': 124,\n",
    "        'Day of retreat (DOR)': 164,\n",
    "        'Seasonal loss of ice period (SLIP)': 40,\n",
    "        'Maximum chlorophyll a concentration (mg/m3)': 1.37,\n",
    "        'Summer sea surface temperature (C)': 5.22\n",
    "    },\n",
    "    3: {\n",
    "        'Year':2004,\n",
    "        'Day of opening (DOO)': 90,\n",
    "        'Day of retreat (DOR)': 159,\n",
    "        'Seasonal loss of ice period (SLIP)': 69,\n",
    "        'Maximum chlorophyll a concentration (mg/m3)': 1.56,\n",
    "        'Summer sea surface temperature (C)': 4.67\n",
    "    },\n",
    "    4: {\n",
    "        'Year':2005,\n",
    "        'Day of opening (DOO)': 86,\n",
    "        'Day of retreat (DOR)': 162,\n",
    "        'Seasonal loss of ice period (SLIP)': 76,\n",
    "        'Maximum chlorophyll a concentration (mg/m3)': 1.47,\n",
    "        'Summer sea surface temperature (C)': 4.36\n",
    "    },\n",
    "    5: {\n",
    "        'Year':2006,\n",
    "        'Day of opening (DOO)': 109,\n",
    "        'Day of retreat (DOR)': 158,\n",
    "        'Seasonal loss of ice period (SLIP)': 49,\n",
    "        'Maximum chlorophyll a concentration (mg/m3)': 1.23,\n",
    "        'Summer sea surface temperature (C)': 4.83\n",
    "    },\n",
    "    6: {\n",
    "        'Year':2007,\n",
    "        'Day of opening (DOO)': 138,\n",
    "        'Day of retreat (DOR)': 171,\n",
    "        'Seasonal loss of ice period (SLIP)': 33,\n",
    "        'Maximum chlorophyll a concentration (mg/m3)': 1.42,\n",
    "        'Summer sea surface temperature (C)': 4.19\n",
    "    }\n",
    "}"
   ]
  },
  {
   "cell_type": "markdown",
   "metadata": {},
   "source": [
    "### Convert your data to a dataframe"
   ]
  },
  {
   "cell_type": "code",
   "execution_count": 37,
   "metadata": {},
   "outputs": [],
   "source": [
    "environmental_conditions_df = pd.DataFrame(environmental_conditions)"
   ]
  },
  {
   "cell_type": "markdown",
   "metadata": {},
   "source": [
    "## Explore your dataframe using the following functions:\n",
    "\n",
    "- `df.describe()`\n",
    "- `df.plot()`\n",
    "- `df.hist()`"
   ]
  },
  {
   "cell_type": "code",
   "execution_count": 38,
   "metadata": {},
   "outputs": [],
   "source": [
    "env_cond_transposed = environmental_conditions_df.transpose()"
   ]
  },
  {
   "cell_type": "code",
   "execution_count": 39,
   "metadata": {},
   "outputs": [
    {
     "data": {
      "text/html": [
       "<div>\n",
       "<style scoped>\n",
       "    .dataframe tbody tr th:only-of-type {\n",
       "        vertical-align: middle;\n",
       "    }\n",
       "\n",
       "    .dataframe tbody tr th {\n",
       "        vertical-align: top;\n",
       "    }\n",
       "\n",
       "    .dataframe thead th {\n",
       "        text-align: right;\n",
       "    }\n",
       "</style>\n",
       "<table border=\"1\" class=\"dataframe\">\n",
       "  <thead>\n",
       "    <tr style=\"text-align: right;\">\n",
       "      <th></th>\n",
       "      <th>Year</th>\n",
       "      <th>Day of opening (DOO)</th>\n",
       "      <th>Day of retreat (DOR)</th>\n",
       "      <th>Seasonal loss of ice period (SLIP)</th>\n",
       "      <th>Maximum chlorophyll a concentration (mg/m3)</th>\n",
       "      <th>Summer sea surface temperature (C)</th>\n",
       "    </tr>\n",
       "  </thead>\n",
       "  <tbody>\n",
       "    <tr>\n",
       "      <th>1</th>\n",
       "      <td>2002.0</td>\n",
       "      <td>163.0</td>\n",
       "      <td>186.0</td>\n",
       "      <td>23.0</td>\n",
       "      <td>1.45</td>\n",
       "      <td>3.78</td>\n",
       "    </tr>\n",
       "    <tr>\n",
       "      <th>2</th>\n",
       "      <td>2003.0</td>\n",
       "      <td>124.0</td>\n",
       "      <td>164.0</td>\n",
       "      <td>40.0</td>\n",
       "      <td>1.37</td>\n",
       "      <td>5.22</td>\n",
       "    </tr>\n",
       "    <tr>\n",
       "      <th>3</th>\n",
       "      <td>2004.0</td>\n",
       "      <td>90.0</td>\n",
       "      <td>159.0</td>\n",
       "      <td>69.0</td>\n",
       "      <td>1.56</td>\n",
       "      <td>4.67</td>\n",
       "    </tr>\n",
       "    <tr>\n",
       "      <th>4</th>\n",
       "      <td>2005.0</td>\n",
       "      <td>86.0</td>\n",
       "      <td>162.0</td>\n",
       "      <td>76.0</td>\n",
       "      <td>1.47</td>\n",
       "      <td>4.36</td>\n",
       "    </tr>\n",
       "    <tr>\n",
       "      <th>5</th>\n",
       "      <td>2006.0</td>\n",
       "      <td>109.0</td>\n",
       "      <td>158.0</td>\n",
       "      <td>49.0</td>\n",
       "      <td>1.23</td>\n",
       "      <td>4.83</td>\n",
       "    </tr>\n",
       "  </tbody>\n",
       "</table>\n",
       "</div>"
      ],
      "text/plain": [
       "     Year  Day of opening (DOO)  Day of retreat (DOR)  \\\n",
       "1  2002.0                 163.0                 186.0   \n",
       "2  2003.0                 124.0                 164.0   \n",
       "3  2004.0                  90.0                 159.0   \n",
       "4  2005.0                  86.0                 162.0   \n",
       "5  2006.0                 109.0                 158.0   \n",
       "\n",
       "   Seasonal loss of ice period (SLIP)  \\\n",
       "1                                23.0   \n",
       "2                                40.0   \n",
       "3                                69.0   \n",
       "4                                76.0   \n",
       "5                                49.0   \n",
       "\n",
       "   Maximum chlorophyll a concentration (mg/m3)  \\\n",
       "1                                         1.45   \n",
       "2                                         1.37   \n",
       "3                                         1.56   \n",
       "4                                         1.47   \n",
       "5                                         1.23   \n",
       "\n",
       "   Summer sea surface temperature (C)  \n",
       "1                                3.78  \n",
       "2                                5.22  \n",
       "3                                4.67  \n",
       "4                                4.36  \n",
       "5                                4.83  "
      ]
     },
     "execution_count": 39,
     "metadata": {},
     "output_type": "execute_result"
    }
   ],
   "source": [
    "env_cond_transposed.head()"
   ]
  },
  {
   "cell_type": "code",
   "execution_count": 42,
   "metadata": {},
   "outputs": [
    {
     "data": {
      "text/plain": [
       "<Axes: xlabel='Year'>"
      ]
     },
     "execution_count": 42,
     "metadata": {},
     "output_type": "execute_result"
    },
    {
     "data": {
      "image/png": "[encoded data removed]",
      "text/plain": [
       "<Figure size 640x480 with 1 Axes>"
      ]
     },
     "metadata": {},
     "output_type": "display_data"
    }
   ],
   "source": [
    "env_cond_transposed.plot('Year','Summer sea surface temperature (C)')"
   ]
  }
 ],
 "metadata": {
  "kernelspec": {
   "display_name": "Python 3",
   "language": "python",
   "name": "python3"
  },
  "language_info": {
   "codemirror_mode": {
    "name": "ipython",
    "version": 3
   },
   "file_extension": ".py",
   "mimetype": "text/x-python",
   "name": "python",
   "nbconvert_exporter": "python",
   "pygments_lexer": "ipython3",
   "version": "3.10.12"
  }
 },
 "nbformat": 4,
 "nbformat_minor": 4
}
