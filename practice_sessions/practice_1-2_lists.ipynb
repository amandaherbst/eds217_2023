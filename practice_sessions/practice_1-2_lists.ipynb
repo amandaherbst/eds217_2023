{
 "cells": [
  {
   "cell_type": "markdown",
   "metadata": {
    "slideshow": {
     "slide_type": "slide"
    }
   },
   "source": [
    "| [⬅️ Previous Session](practice_1-1_variables.ipynb) | [🏠 Course Home](../index.ipynb) | [➡️ Next Session](practice_2-1_control_flow_statements.ipynb) |\n",
    "\n",
    "# Practice 1-2: Lists + Indexing\n"
   ]
  },
  {
   "cell_type": "markdown",
   "metadata": {},
   "source": [
    "\n",
    "## 📚  <b> Practice 1. </b> \n",
    "Define a new list of <b>floats</b> with <b>8 elements</b> called <code>my_list</code>. \n",
    "\n",
    "1. Find the 5th element in your list.\n",
    "2. Create a new list containing every other value in your original list.\n",
    "3. Using slicing and two different methods of indexing, remove the first and last values in your list.\n"
   ]
  },
  {
   "cell_type": "code",
   "execution_count": 23,
   "metadata": {},
   "outputs": [
    {
     "data": {
      "text/plain": [
       "5.6"
      ]
     },
     "execution_count": 23,
     "metadata": {},
     "output_type": "execute_result"
    }
   ],
   "source": [
    "my_list = [1.2, 3.1, 4.4, 5.2, 5.6, 8.0, 6.1, 2.7]\n",
    "# Find fifth element\n",
    "my_list[4]"
   ]
  },
  {
   "cell_type": "code",
   "execution_count": 2,
   "metadata": {},
   "outputs": [],
   "source": [
    "# Create new list containing every other value in your original list\n",
    "my_new_list = my_list[::2]"
   ]
  },
  {
   "cell_type": "code",
   "execution_count": 16,
   "metadata": {},
   "outputs": [
    {
     "data": {
      "text/plain": [
       "[3.1, 4.4, 5.2, 5.6, 8.0, 6.1]"
      ]
     },
     "execution_count": 16,
     "metadata": {},
     "output_type": "execute_result"
    }
   ],
   "source": [
    "# Using slicing and two different methods of indexing, remove first and last values in your list\n",
    "# SLICE\n",
    "my_list = [1.2, 3.1, 4.4, 5.2, 5.6, 8.0, 6.1, 2.7]\n",
    "my_list[1:-1]"
   ]
  },
  {
   "cell_type": "code",
   "execution_count": 17,
   "metadata": {},
   "outputs": [
    {
     "name": "stdout",
     "output_type": "stream",
     "text": [
      "[3.1, 4.4, 5.2, 5.6, 8.0, 6.1]\n"
     ]
    }
   ],
   "source": [
    "# Using slicing and two different methods of indexing, remove first and last values in your list\n",
    "# indexing\n",
    "my_list = [1.2, 3.1, 4.4, 5.2, 5.6, 8.0, 6.1, 2.7]\n",
    "my_list.pop() # remove last\n",
    "my_list.pop(0) # remove first\n",
    "print(my_list)"
   ]
  },
  {
   "cell_type": "markdown",
   "metadata": {},
   "source": [
    "\n",
    "## 📚  <b> Practice 2. </b> \n",
    "Create the variable <code>str_list</code> and assign it to the list <code>['energy', 'water', 'carbon']</code>.\n",
    "Use indexing to extract the second letter of the third element ('a') in <code>str_list</code>.\n",
    "\n",
    "```python\n",
    "str_list = ['energy', 'water', 'carbon']\n",
    "```"
   ]
  },
  {
   "cell_type": "code",
   "execution_count": 21,
   "metadata": {},
   "outputs": [
    {
     "data": {
      "text/plain": [
       "'a'"
      ]
     },
     "execution_count": 21,
     "metadata": {},
     "output_type": "execute_result"
    }
   ],
   "source": [
    "str_list = ['energy', 'water', 'carbon']\n",
    "str_list[2][1] # finding element in position 2 of str_list and element in position 1 of str_list[2]\n"
   ]
  },
  {
   "cell_type": "markdown",
   "metadata": {},
   "source": [
    "\n",
    "## 📚  <b> Practice 3. </b> \n",
    "Create a copy of <code>my_list</code>, which you assigned above. \n",
    "\n",
    "1. Using indexing or list operators, remove the first and last elements of your copied list.\n",
    "2. Sort both the original list and the copied list in reverse order.\n",
    "3. Use the <code>len()</code> function and a boolean operator to determine which list is longer.\n"
   ]
  },
  {
   "cell_type": "code",
   "execution_count": 32,
   "metadata": {},
   "outputs": [
    {
     "data": {
      "text/plain": [
       "True"
      ]
     },
     "execution_count": 32,
     "metadata": {},
     "output_type": "execute_result"
    }
   ],
   "source": [
    "my_list = [1.2, 3.1, 4.4, 5.2, 5.6, 8.0, 6.1, 2.7]\n",
    "my_list_copy = my_list[:]\n",
    "my_list_copy = my_list_copy[1:-1]\n",
    "\n",
    "my_list.sort(reverse=True)\n",
    "my_list_copy.sort(reverse=True)\n",
    "\n",
    "len(my_list) > len(my_list_copy)"
   ]
  },
  {
   "cell_type": "markdown",
   "metadata": {},
   "source": [
    "## 📚  <b> Practice 4. </b> \n",
    "\n",
    "1. Create a new list of 10 random floats between 0 and 1 called <code>rand_list</code>.\n",
    "1. Add <code>rand_list</code> and <code>my_list</code> together in a new list called <code>float_list</code>. \n",
    "1. Print the result.\n"
   ]
  },
  {
   "cell_type": "code",
   "execution_count": 33,
   "metadata": {},
   "outputs": [
    {
     "name": "stdout",
     "output_type": "stream",
     "text": [
      "[0.33, 0.4, 0.87, 0.99, 0.23, 0.356, 0.5, 0.1, 0.44, 0.6, 8.0, 6.1, 5.6, 5.2, 4.4, 3.1, 2.7, 1.2]\n"
     ]
    }
   ],
   "source": [
    "rand_list = [0.33, 0.4, 0.87, 0.99, 0.23, 0.356, 0.5, 0.1, 0.44, 0.6]\n",
    "float_list = rand_list + my_list\n",
    "print(float_list)"
   ]
  },
  {
   "cell_type": "markdown",
   "metadata": {},
   "source": [
    "\n",
    "## 📚  <b> Practice 5. </b> \n",
    "Use the <code>range()</code> function to construct a list of all hundreds (e.g. 100, 200, etc.) between 0 and 1000, inclusive.\n"
   ]
  },
  {
   "cell_type": "code",
   "execution_count": 35,
   "metadata": {},
   "outputs": [
    {
     "name": "stdout",
     "output_type": "stream",
     "text": [
      "[0, 100, 200, 300, 400, 500, 600, 700, 800, 900, 1000]\n"
     ]
    }
   ],
   "source": [
    "hundreds = list(range(0, 1001, 100))\n",
    "print(hundreds)"
   ]
  },
  {
   "cell_type": "markdown",
   "metadata": {},
   "source": [
    "<hr style=\"border-top: 1px solid gray; margin-top: 24px; margin-bottom: 1px\"></hr>"
   ]
  }
 ],
 "metadata": {
  "kernelspec": {
   "display_name": "Python 3",
   "language": "python",
   "name": "python3"
  },
  "language_info": {
   "codemirror_mode": {
    "name": "ipython",
    "version": 3
   },
   "file_extension": ".py",
   "mimetype": "text/x-python",
   "name": "python",
   "nbconvert_exporter": "python",
   "pygments_lexer": "ipython3",
   "version": "3.10.12"
  }
 },
 "nbformat": 4,
 "nbformat_minor": 2
}
